{
 "cells": [
  {
   "cell_type": "markdown",
   "metadata": {
    "id": "hhQrgkM_CHuI"
   },
   "source": [
    "# Анализ пространственных данных. Домашнее задание №2"
   ]
  },
  {
   "cell_type": "code",
   "execution_count": 1,
   "metadata": {
    "colab": {
     "base_uri": "https://localhost:8080/"
    },
    "executionInfo": {
     "elapsed": 36703,
     "status": "ok",
     "timestamp": 1604504720853,
     "user": {
      "displayName": "Aleksei Akimov",
      "photoUrl": "",
      "userId": "02898476708714068187"
     },
     "user_tz": -180
    },
    "id": "Klhx19-cCJOp",
    "outputId": "3f753d28-a92c-4cdf-b8b0-f7b446ffe766"
   },
   "outputs": [
    {
     "name": "stdout",
     "output_type": "stream",
     "text": [
      "Mounted at /content/drive\n"
     ]
    }
   ],
   "source": [
    "from google.colab import drive\n",
    "drive.mount('/content/drive')\n",
    "import sys\n",
    "sys.path.append('/content/drive/My Drive/made/geo')"
   ]
  },
  {
   "cell_type": "markdown",
   "metadata": {
    "id": "YjALjJIcCHuJ"
   },
   "source": [
    "Мягкий дедлайн: __4 ноября 2020 г. 23:59__\n",
    "\n",
    "Жесткий дедлайн (со штрафом в _50%_ от количества набранных вами за ДЗ баллов): __5 ноября 2020 г. 08:59__"
   ]
  },
  {
   "cell_type": "markdown",
   "metadata": {
    "id": "wVGPSGrwCHuJ"
   },
   "source": [
    "Визуализация \"чего-либо\" __без__ выполненного основного задания оценивается в __0 баллов__"
   ]
  },
  {
   "cell_type": "markdown",
   "metadata": {
    "id": "8meBy_q-CHuK"
   },
   "source": [
    "ФИО: `Акимов Алексей Андреевич`"
   ]
  },
  {
   "cell_type": "markdown",
   "metadata": {
    "id": "ZT_4Vx8BCHuK"
   },
   "source": [
    "Группа: `DS-12`"
   ]
  },
  {
   "cell_type": "markdown",
   "metadata": {
    "id": "xSxaOYS0CHuL"
   },
   "source": [
    "## Задание №1. Горячая точка (алгоритм - 10 баллов, визуализация - 10 баллов)."
   ]
  },
  {
   "cell_type": "markdown",
   "metadata": {
    "id": "PmKCB9BPCHuL"
   },
   "source": [
    "Генерируйте рандомные точки на планете Земля до тех пор, пока не попадете на территорию ``Афганистана``"
   ]
  },
  {
   "cell_type": "markdown",
   "metadata": {
    "id": "8DmN69nXCHuM"
   },
   "source": [
    "1. Вы можете использовать функции принадлжености точки полигону и расстояния от точки до полигона (в метрах)\n",
    "2. Предложите не наивный алгоритм поиска (генерировать __напрямую__ точку из полигона границ Афганистана __запрещено__)"
   ]
  },
  {
   "cell_type": "code",
   "execution_count": 7,
   "metadata": {
    "colab": {
     "base_uri": "https://localhost:8080/"
    },
    "executionInfo": {
     "elapsed": 3363,
     "status": "ok",
     "timestamp": 1604504843540,
     "user": {
      "displayName": "Aleksei Akimov",
      "photoUrl": "",
      "userId": "02898476708714068187"
     },
     "user_tz": -180
    },
    "id": "J7J5BtRvCbwh",
    "outputId": "afab99c2-e619-472b-fe95-0d21b4eeb861"
   },
   "outputs": [
    {
     "name": "stdout",
     "output_type": "stream",
     "text": [
      "Requirement already satisfied: geopandas in /usr/local/lib/python3.6/dist-packages (0.8.1)\n",
      "Requirement already satisfied: pyproj>=2.2.0 in /usr/local/lib/python3.6/dist-packages (from geopandas) (2.6.1.post1)\n",
      "Requirement already satisfied: shapely in /usr/local/lib/python3.6/dist-packages (from geopandas) (1.7.1)\n",
      "Requirement already satisfied: pandas>=0.23.0 in /usr/local/lib/python3.6/dist-packages (from geopandas) (1.1.3)\n",
      "Requirement already satisfied: fiona in /usr/local/lib/python3.6/dist-packages (from geopandas) (1.8.17)\n",
      "Requirement already satisfied: pytz>=2017.2 in /usr/local/lib/python3.6/dist-packages (from pandas>=0.23.0->geopandas) (2018.9)\n",
      "Requirement already satisfied: python-dateutil>=2.7.3 in /usr/local/lib/python3.6/dist-packages (from pandas>=0.23.0->geopandas) (2.8.1)\n",
      "Requirement already satisfied: numpy>=1.15.4 in /usr/local/lib/python3.6/dist-packages (from pandas>=0.23.0->geopandas) (1.18.5)\n",
      "Requirement already satisfied: six>=1.7 in /usr/local/lib/python3.6/dist-packages (from fiona->geopandas) (1.15.0)\n",
      "Requirement already satisfied: munch in /usr/local/lib/python3.6/dist-packages (from fiona->geopandas) (2.5.0)\n",
      "Requirement already satisfied: click<8,>=4.0 in /usr/local/lib/python3.6/dist-packages (from fiona->geopandas) (7.1.2)\n",
      "Requirement already satisfied: click-plugins>=1.0 in /usr/local/lib/python3.6/dist-packages (from fiona->geopandas) (1.1.1)\n",
      "Requirement already satisfied: attrs>=17 in /usr/local/lib/python3.6/dist-packages (from fiona->geopandas) (20.2.0)\n",
      "Requirement already satisfied: cligj>=0.5 in /usr/local/lib/python3.6/dist-packages (from fiona->geopandas) (0.7.0)\n"
     ]
    }
   ],
   "source": [
    "!pip install geopandas"
   ]
  },
  {
   "cell_type": "code",
   "execution_count": 3,
   "metadata": {
    "executionInfo": {
     "elapsed": 969,
     "status": "ok",
     "timestamp": 1604518342718,
     "user": {
      "displayName": "Aleksei Akimov",
      "photoUrl": "",
      "userId": "02898476708714068187"
     },
     "user_tz": -180
    },
    "id": "pOSmp-bmCHuM"
   },
   "outputs": [],
   "source": [
    "import pandas as pd\n",
    "import geopandas as gpd\n",
    "import numpy as np\n",
    "from shapely import geometry\n",
    "from geopandas import GeoDataFrame\n",
    "import geopandas as gpd\n",
    "import folium\n",
    "from shapely.geometry import Polygon, Point, LinearRing\n",
    "import matplotlib.pyplot as plt\n",
    "import os\n",
    "import overpy\n",
    "import requests\n",
    "import json\n",
    "from OSMPythonTools.nominatim import Nominatim\n",
    "from OSMPythonTools.overpass import overpassQueryBuilder, Overpass\n",
    "from INFO_COUNTRIES import countries"
   ]
  },
  {
   "cell_type": "code",
   "execution_count": 4,
   "metadata": {
    "executionInfo": {
     "elapsed": 714,
     "status": "ok",
     "timestamp": 1604518343979,
     "user": {
      "displayName": "Aleksei Akimov",
      "photoUrl": "",
      "userId": "02898476708714068187"
     },
     "user_tz": -180
    },
    "id": "gaZ68a6R8pu-"
   },
   "outputs": [],
   "source": [
    "from math import radians, cos, sin, asin, sqrt\n",
    "\n",
    "def haversine(point1, point2):\n",
    "    \"\"\"\n",
    "    Calculate the great circle distance between two points \n",
    "    on the earth (specified in decimal degrees)\n",
    "    \"\"\"\n",
    "    lon1, lat1 = point1.coords.xy[0][0], point1.coords.xy[1][0]\n",
    "    lon2, lat2 = point2.coords.xy[0][0], point2.coords.xy[1][0]\n",
    "    # convert decimal degrees to radians \n",
    "    lon1, lat1, lon2, lat2 = map(radians, [lon1, lat1, lon2, lat2])\n",
    "\n",
    "    # haversine formula \n",
    "    dlon = lon2 - lon1 \n",
    "    dlat = lat2 - lat1 \n",
    "    a = sin(dlat / 2)**2 + cos(lat1) * cos(lat2) * sin(dlon / 2)**2\n",
    "    c = 2 * asin(sqrt(a)) \n",
    "    r = 6371000\n",
    "    return c * r\n",
    "\n",
    "def sum_point(point, dpoint):\n",
    "    lon1, lat1 = point.coords.xy[0][0], point.coords.xy[1][0]\n",
    "    return geometry.Point(lon1 + dpoint[0], lat1 + dpoint[1])\n",
    "\n",
    "def grad_desc(point, polygon, step, dp=1e-6): # градиентный спуск\n",
    "    point1 = sum_point(point, [dp, 0])\n",
    "    point2 = sum_point(point, [0, dp])\n",
    "    dist = distance(point, polygon) \n",
    "    dist1 = distance(point1, polygon) # мы наперед не знаем какая именно точка ближайшая, это по сути случайная составляющая \n",
    "    dist2 = distance(point2, polygon)\n",
    "        \n",
    "    grad = np.array([dist1 - dist, dist2 - dist]) / dp\n",
    "    point = sum_point(point, -grad * step)\n",
    "    return point\n",
    "\n",
    "def distance(point, polygon): # дистанция до полигона - наша целевая функция. \n",
    "    pol_ext = LinearRing(polygon.exterior.coords)\n",
    "    d = pol_ext.project(point)\n",
    "    p = pol_ext.interpolate(d)\n",
    "    point_closest = geometry.Point(list(p.coords)[0][0], list(p.coords)[0][1])\n",
    "    return haversine(point_closest, point)\n",
    "\n",
    "def search(point, polygon, step_init_1 = 0.1):\n",
    "    points = []\n",
    "    if polygon.contains(point):\n",
    "        return [point]\n",
    "    while not polygon.contains(point):\n",
    "         point = grad_desc(point, polygon, step_init_1)\n",
    "         points.append(point)\n",
    "         \n",
    "    return points"
   ]
  },
  {
   "cell_type": "code",
   "execution_count": 5,
   "metadata": {
    "colab": {
     "base_uri": "https://localhost:8080/",
     "height": 204
    },
    "executionInfo": {
     "elapsed": 637,
     "status": "ok",
     "timestamp": 1604518345061,
     "user": {
      "displayName": "Aleksei Akimov",
      "photoUrl": "",
      "userId": "02898476708714068187"
     },
     "user_tz": -180
    },
    "id": "b0018bZR8mWX",
    "outputId": "1479b45f-8088-4cff-c85c-9e625b5a550e"
   },
   "outputs": [
    {
     "data": {
      "text/html": [
       "<div>\n",
       "<style scoped>\n",
       "    .dataframe tbody tr th:only-of-type {\n",
       "        vertical-align: middle;\n",
       "    }\n",
       "\n",
       "    .dataframe tbody tr th {\n",
       "        vertical-align: top;\n",
       "    }\n",
       "\n",
       "    .dataframe thead th {\n",
       "        text-align: right;\n",
       "    }\n",
       "</style>\n",
       "<table border=\"1\" class=\"dataframe\">\n",
       "  <thead>\n",
       "    <tr style=\"text-align: right;\">\n",
       "      <th></th>\n",
       "      <th>FIPS</th>\n",
       "      <th>ISO2</th>\n",
       "      <th>ISO3</th>\n",
       "      <th>UN</th>\n",
       "      <th>NAME</th>\n",
       "      <th>AREA</th>\n",
       "      <th>POP2005</th>\n",
       "      <th>REGION</th>\n",
       "      <th>SUBREGION</th>\n",
       "      <th>LON</th>\n",
       "      <th>LAT</th>\n",
       "      <th>geometry</th>\n",
       "    </tr>\n",
       "  </thead>\n",
       "  <tbody>\n",
       "    <tr>\n",
       "      <th>0</th>\n",
       "      <td>AC</td>\n",
       "      <td>AG</td>\n",
       "      <td>ATG</td>\n",
       "      <td>28</td>\n",
       "      <td>Antigua and Barbuda</td>\n",
       "      <td>44</td>\n",
       "      <td>83039</td>\n",
       "      <td>19</td>\n",
       "      <td>29</td>\n",
       "      <td>-61.783</td>\n",
       "      <td>17.078</td>\n",
       "      <td>MULTIPOLYGON (((-61.68667 17.02444, -61.73806 ...</td>\n",
       "    </tr>\n",
       "    <tr>\n",
       "      <th>1</th>\n",
       "      <td>AG</td>\n",
       "      <td>DZ</td>\n",
       "      <td>DZA</td>\n",
       "      <td>12</td>\n",
       "      <td>Algeria</td>\n",
       "      <td>238174</td>\n",
       "      <td>32854159</td>\n",
       "      <td>2</td>\n",
       "      <td>15</td>\n",
       "      <td>2.632</td>\n",
       "      <td>28.163</td>\n",
       "      <td>POLYGON ((2.96361 36.80222, 2.98139 36.80694, ...</td>\n",
       "    </tr>\n",
       "    <tr>\n",
       "      <th>2</th>\n",
       "      <td>AJ</td>\n",
       "      <td>AZ</td>\n",
       "      <td>AZE</td>\n",
       "      <td>31</td>\n",
       "      <td>Azerbaijan</td>\n",
       "      <td>8260</td>\n",
       "      <td>8352021</td>\n",
       "      <td>142</td>\n",
       "      <td>145</td>\n",
       "      <td>47.395</td>\n",
       "      <td>40.430</td>\n",
       "      <td>MULTIPOLYGON (((45.08332 39.76804, 45.26639 39...</td>\n",
       "    </tr>\n",
       "    <tr>\n",
       "      <th>3</th>\n",
       "      <td>AL</td>\n",
       "      <td>AL</td>\n",
       "      <td>ALB</td>\n",
       "      <td>8</td>\n",
       "      <td>Albania</td>\n",
       "      <td>2740</td>\n",
       "      <td>3153731</td>\n",
       "      <td>150</td>\n",
       "      <td>39</td>\n",
       "      <td>20.068</td>\n",
       "      <td>41.143</td>\n",
       "      <td>POLYGON ((19.43621 41.02107, 19.45055 41.06000...</td>\n",
       "    </tr>\n",
       "    <tr>\n",
       "      <th>4</th>\n",
       "      <td>AM</td>\n",
       "      <td>AM</td>\n",
       "      <td>ARM</td>\n",
       "      <td>51</td>\n",
       "      <td>Armenia</td>\n",
       "      <td>2820</td>\n",
       "      <td>3017661</td>\n",
       "      <td>142</td>\n",
       "      <td>145</td>\n",
       "      <td>44.563</td>\n",
       "      <td>40.534</td>\n",
       "      <td>MULTIPOLYGON (((45.57305 40.63249, 45.52888 40...</td>\n",
       "    </tr>\n",
       "  </tbody>\n",
       "</table>\n",
       "</div>"
      ],
      "text/plain": [
       "  FIPS ISO2  ...     LAT                                           geometry\n",
       "0   AC   AG  ...  17.078  MULTIPOLYGON (((-61.68667 17.02444, -61.73806 ...\n",
       "1   AG   DZ  ...  28.163  POLYGON ((2.96361 36.80222, 2.98139 36.80694, ...\n",
       "2   AJ   AZ  ...  40.430  MULTIPOLYGON (((45.08332 39.76804, 45.26639 39...\n",
       "3   AL   AL  ...  41.143  POLYGON ((19.43621 41.02107, 19.45055 41.06000...\n",
       "4   AM   AM  ...  40.534  MULTIPOLYGON (((45.57305 40.63249, 45.52888 40...\n",
       "\n",
       "[5 rows x 12 columns]"
      ]
     },
     "execution_count": 5,
     "metadata": {
      "tags": []
     },
     "output_type": "execute_result"
    }
   ],
   "source": [
    "data = gpd.GeoDataFrame.from_file(\"/content/drive/My Drive/made/geo/HW2/data/TM_WORLD_BORDERS-0.3.shp\", crs=\"EPSG:4326\")\n",
    "afghan = data[data.NAME == \"Afghanistan\"].geometry.values[0] # полигон Афганистана\n",
    "# put your code here\n",
    "data.head()"
   ]
  },
  {
   "cell_type": "code",
   "execution_count": 6,
   "metadata": {
    "executionInfo": {
     "elapsed": 532,
     "status": "ok",
     "timestamp": 1604518346087,
     "user": {
      "displayName": "Aleksei Akimov",
      "photoUrl": "",
      "userId": "02898476708714068187"
     },
     "user_tz": -180
    },
    "id": "nGZLgDpFdr0l"
   },
   "outputs": [],
   "source": [
    "point = geometry.Point(0, 51.5) # Лондон - отправная точка\n",
    "points =  search(point, afghan, step_init_1=0.0001)\n",
    "points = [point] + points"
   ]
  },
  {
   "cell_type": "code",
   "execution_count": 7,
   "metadata": {
    "colab": {
     "base_uri": "https://localhost:8080/",
     "height": 763
    },
    "executionInfo": {
     "elapsed": 514,
     "status": "ok",
     "timestamp": 1604518347255,
     "user": {
      "displayName": "Aleksei Akimov",
      "photoUrl": "",
      "userId": "02898476708714068187"
     },
     "user_tz": -180
    },
    "id": "S0YjsEx5TvO3",
    "outputId": "b38d3255-1180-40a1-ea5c-ffc264bc60a8"
   },
   "outputs": [
    {
     "data": {
      "text/html": [
       "<div style=\"width:100%;\"><div style=\"position:relative;width:100%;height:0;padding-bottom:60%;\"><span style=\"color:#565656\">Make this Notebook Trusted to load map: File -> Trust Notebook</span><iframe src=\"about:blank\" style=\"position:absolute;width:100%;height:100%;left:0;top:0;border:none !important;\" data-html=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 onload=\"this.contentDocument.open();this.contentDocument.write(atob(this.getAttribute('data-html')));this.contentDocument.close();\" allowfullscreen webkitallowfullscreen mozallowfullscreen></iframe></div></div>"
      ],
      "text/plain": [
       "<folium.folium.Map at 0x7f64c6a6d208>"
      ]
     },
     "execution_count": 7,
     "metadata": {
      "tags": []
     },
     "output_type": "execute_result"
    }
   ],
   "source": [
    "m = folium.Map([0, 51.5], zoom_start=2)\n",
    "i = 0\n",
    "for point in points:\n",
    "    coords = [point.coords.xy[1][0], point.coords.xy[0][0]]\n",
    "    folium.Marker(location=coords, popup=f'{i} step',).add_to(m)\n",
    "    i += 1\n",
    "m"
   ]
  },
  {
   "cell_type": "markdown",
   "metadata": {
    "id": "oeyc9WWRCHuP"
   },
   "source": [
    "Визуализируйте пошагово предложенный алгоритм при помощи ``Folium``"
   ]
  },
  {
   "cell_type": "markdown",
   "metadata": {
    "id": "S82Px9mvCHuP"
   },
   "source": [
    "## Задание №2. Качество жизни (20 баллов)."
   ]
  },
  {
   "cell_type": "markdown",
   "metadata": {
    "id": "4bGXD70aCHuQ"
   },
   "source": [
    "Для измерения показателя качества жизни в точке, найденной в предыдущем задании, вам необходимо рассчитать следующую сумму расстояний (в метрах):"
   ]
  },
  {
   "cell_type": "markdown",
   "metadata": {
    "id": "cFbwE5X9CHuQ"
   },
   "source": [
    "1. Расстояние от точки до 5 ближайших __*__ банкоматов, находящихся в стране с наибольшим количеством объектов жилой недвижимости\n",
    "2. Расстояние от точки до 5 ближайших школ, находящихся в стране с наибольшим количеством аптек в столице\n",
    "3. Расстояние от точки до 5 ближайших кинотеатров, наодящихся в стране с самым большим отношением числа железнодорожных станций к автобусным остановкам в южной части __**__"
   ]
  },
  {
   "cell_type": "markdown",
   "metadata": {
    "id": "moCKNMaUCHuR"
   },
   "source": [
    "__*__ При поиске _N_ ближайших объектов обязательно использовать ``R-tree``\n",
    "\n",
    "__**__ Южной частью страны является территория, находящаяся к югу от множества точек, равноудаленных от самой северной и самой южной точек страны"
   ]
  },
  {
   "cell_type": "code",
   "execution_count": 8,
   "metadata": {
    "executionInfo": {
     "elapsed": 576,
     "status": "ok",
     "timestamp": 1604518353895,
     "user": {
      "displayName": "Aleksei Akimov",
      "photoUrl": "",
      "userId": "02898476708714068187"
     },
     "user_tz": -180
    },
    "id": "udhMQeO7Hatd"
   },
   "outputs": [],
   "source": [
    "#!pip install OSMPythonTools\n",
    "#!pip install overpy\n",
    "#!pip install Rtree==0.8.3"
   ]
  },
  {
   "cell_type": "code",
   "execution_count": 9,
   "metadata": {
    "colab": {
     "base_uri": "https://localhost:8080/"
    },
    "executionInfo": {
     "elapsed": 625,
     "status": "ok",
     "timestamp": 1604518355091,
     "user": {
      "displayName": "Aleksei Akimov",
      "photoUrl": "",
      "userId": "02898476708714068187"
     },
     "user_tz": -180
    },
    "id": "0YaFee5scv9d",
    "outputId": "89e5b64a-48e4-4722-c3a0-5b4ae4287580"
   },
   "outputs": [
    {
     "data": {
      "text/plain": [
       "['DE', 'PL', 'RO', 'IR', None, 'TR', 'GB', 'AF']"
      ]
     },
     "execution_count": 9,
     "metadata": {
      "tags": []
     },
     "output_type": "execute_result"
    }
   ],
   "source": [
    "def get_iso_country(point, data):\n",
    "    for row in data.values:\n",
    "        if row[-1].contains(point):\n",
    "            return row[1]\n",
    "    return None\n",
    "isos = list(set([get_iso_country(point, data) for point in points]))\n",
    "isos # Все страны наших точек. Крым деликатно обошли стороной)"
   ]
  },
  {
   "cell_type": "markdown",
   "metadata": {
    "id": "vM65GhZ8xtSk"
   },
   "source": [
    "## Банкоматы"
   ]
  },
  {
   "cell_type": "code",
   "execution_count": 10,
   "metadata": {
    "executionInfo": {
     "elapsed": 671,
     "status": "ok",
     "timestamp": 1604518372783,
     "user": {
      "displayName": "Aleksei Akimov",
      "photoUrl": "",
      "userId": "02898476708714068187"
     },
     "user_tz": -180
    },
    "id": "ydr7_63LaqLs"
   },
   "outputs": [],
   "source": [
    "def get_atm(iso): # банкоматы страны\n",
    "    if iso is None:\n",
    "        return []\n",
    "    api = overpy.Overpass()\n",
    "    r = api.query(f\"\"\"\n",
    "    area[\"ISO3166-1\"=\"{iso}\"][admin_level=2];\n",
    "    (node[\"amenity\"=\"atm\"](area);\n",
    "    );\n",
    "    out center;\n",
    "    \"\"\")\n",
    "    coords  = [geometry.Point(float(node.lon), float(node.lat)) \n",
    "              for node in r.nodes]\n",
    "    return coords\n",
    "\n",
    "def get_len_resid(iso): # количество жилых домов\n",
    "    if iso is None:\n",
    "        return 0\n",
    "    overpass_url = \"https://overpass-api.de/api/interpreter\"\n",
    "    overpass_query = f\"\"\"\n",
    "    [out:json];\n",
    "    area[\"ISO3166-1\"=\"{iso}\"][admin_level=2];\n",
    "    (node[\"building\"=\"residential\"](area);\n",
    "     node[\"building\"=\"apartments\"](area);\n",
    "     node[\"building\"=\"terrace\"](area);\n",
    "     node[\"building\"=\"house\"](area);\n",
    "     node[\"building\"=\"detached\"](area);\n",
    "     node[\"building\"=\"semidetached_house\"](area);\n",
    "    );\n",
    "    out center;\n",
    "    \"\"\"\n",
    "    response = requests.get(overpass_url, \n",
    "                        params={'data': overpass_query})\n",
    "    data = response.json()\n",
    "    return len(data[\"elements\"])\n",
    "\n",
    "R_Earth = 6371000 # m\n",
    "def geo2vec(point):\n",
    "    lon, lat = point.coords.xy[0][0], point.coords.xy[1][0]\n",
    "    lat = np.pi/180 * lat\n",
    "    lon = np.pi/180 * lon\n",
    "    return np.array((np.cos(lat) * np.cos(lon), np.cos(lat) * np.sin(lon), np.sin(lat))) * R_Earth\n",
    "def vec2geo(vec):\n",
    "    lat = np.arcsin(vec[2] / R_Earth) * 180 / np.pi\n",
    "    lon = np.arctan2(vec[1], vec[0]) * 180 / np.pi\n",
    "    return geometry.Point(lon, lat)\n",
    "  \n",
    "points_vec = [geo2vec(point) for point in points]"
   ]
  },
  {
   "cell_type": "code",
   "execution_count": 16,
   "metadata": {
    "colab": {
     "base_uri": "https://localhost:8080/"
    },
    "executionInfo": {
     "elapsed": 195741,
     "status": "ok",
     "timestamp": 1604505086331,
     "user": {
      "displayName": "Aleksei Akimov",
      "photoUrl": "",
      "userId": "02898476708714068187"
     },
     "user_tz": -180
    },
    "id": "-HzEfvb0yqjj",
    "outputId": "427d56b4-d5d5-4f3b-8556-237f826c873c"
   },
   "outputs": [
    {
     "name": "stdout",
     "output_type": "stream",
     "text": [
      "IR :  30\n",
      "RO :  32\n",
      "PL :  534\n",
      "DE :  1115\n",
      "GB :  1658\n",
      "AF :  2511\n",
      "None :  0\n",
      "TR :  23\n"
     ]
    }
   ],
   "source": [
    "count_build = {}\n",
    "for iso in isos:\n",
    "    get_build = 0\n",
    "    while get_build == 0:\n",
    "        try:\n",
    "            count_build[iso] = get_len_resid(iso)\n",
    "            get_build = 1\n",
    "            print(iso, \": \", count_build[iso])\n",
    "        except:\n",
    "            #print(\"fail loading...\")\n",
    "            pass ## Результат конечно странный, но вроде сделано все правильно"
   ]
  },
  {
   "cell_type": "code",
   "execution_count": 20,
   "metadata": {
    "colab": {
     "base_uri": "https://localhost:8080/",
     "height": 35
    },
    "executionInfo": {
     "elapsed": 600,
     "status": "ok",
     "timestamp": 1604508155528,
     "user": {
      "displayName": "Aleksei Akimov",
      "photoUrl": "",
      "userId": "02898476708714068187"
     },
     "user_tz": -180
    },
    "id": "iPipsbHE5uXk",
    "outputId": "fdd813ae-491f-4a77-9491-31e0ee9bef9a"
   },
   "outputs": [
    {
     "data": {
      "application/vnd.google.colaboratory.intrinsic+json": {
       "type": "string"
      },
      "text/plain": [
       "'AF'"
      ]
     },
     "execution_count": 20,
     "metadata": {
      "tags": []
     },
     "output_type": "execute_result"
    }
   ],
   "source": [
    "iso_max_count_buil = list(count_build.keys())[np.argmax(list(count_build.values()))]\n",
    "iso_max_count_buil # в Афганистане больше всего домов. Что впрочем вполне может быть."
   ]
  },
  {
   "cell_type": "code",
   "execution_count": 22,
   "metadata": {
    "executionInfo": {
     "elapsed": 4453,
     "status": "ok",
     "timestamp": 1604508183332,
     "user": {
      "displayName": "Aleksei Akimov",
      "photoUrl": "",
      "userId": "02898476708714068187"
     },
     "user_tz": -180
    },
    "id": "7YBVg1PG6Ix_"
   },
   "outputs": [],
   "source": [
    "coord_atm = get_atm(iso_max_count_buil) # все банкоматы Афганистана (вряд ли их много)\n",
    "coord_atm_vec = [geo2vec(point) for point in coord_atm]"
   ]
  },
  {
   "cell_type": "code",
   "execution_count": 24,
   "metadata": {
    "colab": {
     "base_uri": "https://localhost:8080/"
    },
    "executionInfo": {
     "elapsed": 649,
     "status": "ok",
     "timestamp": 1604508196524,
     "user": {
      "displayName": "Aleksei Akimov",
      "photoUrl": "",
      "userId": "02898476708714068187"
     },
     "user_tz": -180
    },
    "id": "0UtPCsorlEwc",
    "outputId": "f8e25f31-ba64-403f-adc3-f96be5ffd08c"
   },
   "outputs": [
    {
     "name": "stdout",
     "output_type": "stream",
     "text": [
      "Сумма расстояний для точки 0: 26182596.445174035 метров\n",
      "Сумма расстояний для точки 1: 23797793.75722707 метров\n",
      "Сумма расстояний для точки 2: 21416816.025717933 метров\n",
      "Сумма расстояний для точки 3: 18870433.121645913 метров\n",
      "Сумма расстояний для точки 4: 16046282.57648502 метров\n",
      "Сумма расстояний для точки 5: 12883120.517833391 метров\n",
      "Сумма расстояний для точки 6: 9363798.435744993 метров\n",
      "Сумма расстояний для точки 7: 5519146.627980847 метров\n",
      "Сумма расстояний для точки 8: 1536954.414912919 метров\n",
      "Сумма расстояний для точки 9: 964429.063894253 метров\n"
     ]
    }
   ],
   "source": [
    "from rtree import index\n",
    "\n",
    "p = index.Property()\n",
    "p.dimension = 3\n",
    "p.dat_extension = 'data'\n",
    "p.idx_extension = 'index'\n",
    "idx3d = index.Index(\"3d_index1\", properties=p)\n",
    "\n",
    "for i, pp in enumerate(coord_atm_vec):\n",
    "    idx3d.insert(i, tuple(pp), tuple(pp))\n",
    "\n",
    "sum_distance = []\n",
    "for i in range(len(points_vec)):\n",
    "    vec = tuple(points_vec[i])\n",
    "    closest_atm = list(idx3d.nearest(vec, 5, objects='raw'))[:5] # мы переводим угловые координаты в гринвич, потому что нежелательно считать расстояние сразу по углам\n",
    "    geo_closest_atms = [vec2geo(ca) for ca in closest_atm]\n",
    "    sum_ = np.sum([haversine(points[i], geo_closest_atm) for geo_closest_atm in geo_closest_atms])\n",
    "    sum_distance.append(sum_)\n",
    "    print(f\"Сумма расстояний для точки {i}: {sum_} метров\")\n",
    "    # Сумма уменьшается, что внушает некоторую надежду на верный результат"
   ]
  },
  {
   "cell_type": "markdown",
   "metadata": {
    "id": "P9iez0UHx059"
   },
   "source": [
    "## Школы"
   ]
  },
  {
   "cell_type": "code",
   "execution_count": 19,
   "metadata": {
    "executionInfo": {
     "elapsed": 593,
     "status": "ok",
     "timestamp": 1604505842924,
     "user": {
      "displayName": "Aleksei Akimov",
      "photoUrl": "",
      "userId": "02898476708714068187"
     },
     "user_tz": -180
    },
    "id": "O5PrMzh5CHuR"
   },
   "outputs": [],
   "source": [
    "# put your code here\n",
    "#pharmacy\n",
    "def get_pharmacy_capitals(iso, countries=countries): # число аптек в столице\n",
    "    if iso is None:\n",
    "        return 0\n",
    "    for c in countries:\n",
    "        if c[\"code\"] == iso:\n",
    "            country = c[\"name\"]\n",
    "            capital = c[\"capital\"]\n",
    "            break\n",
    "    nominatim = Nominatim()\n",
    "    areaId = nominatim.query(f'{capital}, {country}').areaId()\n",
    "    overpass = Overpass()\n",
    "    query = overpassQueryBuilder(area=areaId, elementType='node', selector='\"amenity\"=\"pharmacy\"', out='count')\n",
    "    result = overpass.query(query)\n",
    "    return result.countElements()\n",
    "\n",
    "def get_school(iso): # школы страны\n",
    "    if iso is None:\n",
    "        return []\n",
    "    api = overpy.Overpass()\n",
    "    r = api.query(f\"\"\"\n",
    "    area[\"ISO3166-1\"=\"{iso}\"][admin_level=2];\n",
    "    (node[\"amenity\"=\"school\"](area);\n",
    "    );\n",
    "    out center;\n",
    "    \"\"\")\n",
    "    coords  = [geometry.Point(float(node.lon), float(node.lat)) \n",
    "              for node in r.nodes]\n",
    "    return coords"
   ]
  },
  {
   "cell_type": "code",
   "execution_count": 32,
   "metadata": {
    "colab": {
     "base_uri": "https://localhost:8080/"
    },
    "executionInfo": {
     "elapsed": 76446,
     "status": "ok",
     "timestamp": 1604505314287,
     "user": {
      "displayName": "Aleksei Akimov",
      "photoUrl": "",
      "userId": "02898476708714068187"
     },
     "user_tz": -180
    },
    "id": "fJoom5qc7Mdu",
    "outputId": "d5d98dc6-9d96-4a6c-eafe-3e2da8d5256c"
   },
   "outputs": [
    {
     "name": "stderr",
     "output_type": "stream",
     "text": [
      "[nominatim] downloading data: search\n",
      "[overpass] downloading data: [timeout:25][out:json];area(3606663864)->.searchArea;(node[\"amenity\"=\"pharmacy\"](area.searchArea);); out count;\n",
      "[nominatim] downloading data: search\n"
     ]
    },
    {
     "name": "stdout",
     "output_type": "stream",
     "text": [
      "IR :  670\n"
     ]
    },
    {
     "name": "stderr",
     "output_type": "stream",
     "text": [
      "[overpass] downloading data: [timeout:25][out:json];area(3600377733)->.searchArea;(node[\"amenity\"=\"pharmacy\"](area.searchArea);); out count;\n",
      "[nominatim] downloading data: search\n"
     ]
    },
    {
     "name": "stdout",
     "output_type": "stream",
     "text": [
      "RO :  748\n"
     ]
    },
    {
     "name": "stderr",
     "output_type": "stream",
     "text": [
      "[overpass] downloading data: [timeout:25][out:json];area(3602907540)->.searchArea;(node[\"amenity\"=\"pharmacy\"](area.searchArea);); out count;\n",
      "[nominatim] downloading data: search\n"
     ]
    },
    {
     "name": "stdout",
     "output_type": "stream",
     "text": [
      "PL :  584\n"
     ]
    },
    {
     "name": "stderr",
     "output_type": "stream",
     "text": [
      "[overpass] downloading data: [timeout:25][out:json];area(3600062422)->.searchArea;(node[\"amenity\"=\"pharmacy\"](area.searchArea);); out count;\n",
      "[nominatim] downloading data: search\n"
     ]
    },
    {
     "name": "stdout",
     "output_type": "stream",
     "text": [
      "DE :  725\n"
     ]
    },
    {
     "name": "stderr",
     "output_type": "stream",
     "text": [
      "[overpass] downloading data: [timeout:25][out:json];area(3600065606)->.searchArea;(node[\"amenity\"=\"pharmacy\"](area.searchArea);); out count;\n",
      "[nominatim] downloading data: search\n"
     ]
    },
    {
     "name": "stdout",
     "output_type": "stream",
     "text": [
      "GB :  789\n"
     ]
    },
    {
     "name": "stderr",
     "output_type": "stream",
     "text": [
      "[overpass] downloading data: [timeout:25][out:json];area(3601676476)->.searchArea;(node[\"amenity\"=\"pharmacy\"](area.searchArea);); out count;\n",
      "[nominatim] downloading data: search\n"
     ]
    },
    {
     "name": "stdout",
     "output_type": "stream",
     "text": [
      "AF :  0\n",
      "None :  0\n"
     ]
    },
    {
     "name": "stderr",
     "output_type": "stream",
     "text": [
      "[overpass] downloading data: [timeout:25][out:json];area(3600223422)->.searchArea;(node[\"amenity\"=\"pharmacy\"](area.searchArea);); out count;\n"
     ]
    },
    {
     "name": "stdout",
     "output_type": "stream",
     "text": [
      "TR :  1072\n"
     ]
    }
   ],
   "source": [
    "count_farma = {}\n",
    "for iso in isos:\n",
    "    get_farma = 0\n",
    "    while get_farma == 0:\n",
    "        try:\n",
    "            count_farma[iso] = get_pharmacy_capitals(iso)\n",
    "            get_farma = 1\n",
    "            print(iso, \": \", count_farma[iso])\n",
    "        except:\n",
    "            pass"
   ]
  },
  {
   "cell_type": "code",
   "execution_count": 33,
   "metadata": {
    "colab": {
     "base_uri": "https://localhost:8080/",
     "height": 35
    },
    "executionInfo": {
     "elapsed": 584,
     "status": "ok",
     "timestamp": 1604505317102,
     "user": {
      "displayName": "Aleksei Akimov",
      "photoUrl": "",
      "userId": "02898476708714068187"
     },
     "user_tz": -180
    },
    "id": "Y_S1Bi9ZzICs",
    "outputId": "ffe4ea48-b3fe-4ea2-d531-717e30b14dd9"
   },
   "outputs": [
    {
     "data": {
      "application/vnd.google.colaboratory.intrinsic+json": {
       "type": "string"
      },
      "text/plain": [
       "'TR'"
      ]
     },
     "execution_count": 33,
     "metadata": {
      "tags": []
     },
     "output_type": "execute_result"
    }
   ],
   "source": [
    "iso_max_count_farma = list(count_farma.keys())[np.argmax(list(count_farma.values()))]\n",
    "iso_max_count_farma # в Анкаре больше всего аптек. Что впрочем тоже может быть."
   ]
  },
  {
   "cell_type": "code",
   "execution_count": 21,
   "metadata": {
    "executionInfo": {
     "elapsed": 12793,
     "status": "ok",
     "timestamp": 1604505881262,
     "user": {
      "displayName": "Aleksei Akimov",
      "photoUrl": "",
      "userId": "02898476708714068187"
     },
     "user_tz": -180
    },
    "id": "-jT62c8T7MgV"
   },
   "outputs": [],
   "source": [
    "coord_sch = get_school(iso_max_count_farma) # все школы Турции\n",
    "coord_sch_vec = [geo2vec(point) for point in coord_sch]"
   ]
  },
  {
   "cell_type": "code",
   "execution_count": 22,
   "metadata": {
    "colab": {
     "base_uri": "https://localhost:8080/"
    },
    "executionInfo": {
     "elapsed": 842,
     "status": "ok",
     "timestamp": 1604505884871,
     "user": {
      "displayName": "Aleksei Akimov",
      "photoUrl": "",
      "userId": "02898476708714068187"
     },
     "user_tz": -180
    },
    "id": "rp6JgKDrz-8H",
    "outputId": "cb91a709-c67c-415c-94d3-a5dd99ce7b20"
   },
   "outputs": [
    {
     "name": "stdout",
     "output_type": "stream",
     "text": [
      "Сумма расстояний для точки 0: 11562479.256755073 метров\n",
      "Сумма расстояний для точки 1: 9483741.188099636 метров\n",
      "Сумма расстояний для точки 2: 7331702.542485569 метров\n",
      "Сумма расстояний для точки 3: 5041163.781927573 метров\n",
      "Сумма расстояний для точки 4: 3013265.2593941237 метров\n",
      "Сумма расстояний для точки 5: 1218091.992056032 метров\n",
      "Сумма расстояний для точки 6: 326572.9909823502 метров\n",
      "Сумма расстояний для точки 7: 2844579.6279742382 метров\n",
      "Сумма расстояний для точки 8: 7038658.494163554 метров\n",
      "Сумма расстояний для точки 9: 11198126.466712039 метров\n"
     ]
    }
   ],
   "source": [
    "from rtree import index\n",
    "r = index.Property()\n",
    "r.dimension = 3\n",
    "r.dat_extension = 'data'\n",
    "r.idx_extension = 'index'\n",
    "idx3d1 = index.Index(\"3d_index4\", properties=r)\n",
    "\n",
    "for i, pp in enumerate(coord_sch_vec):\n",
    "    idx3d1.insert(i, tuple(pp), tuple(pp))\n",
    "\n",
    "sum_distance = []\n",
    "for i in range(len(points_vec)):\n",
    "    vec = tuple(points_vec[i])\n",
    "    closest_sch = list(idx3d1.nearest(vec, 5, objects='raw'))[:5] # мы переводим угловые координаты в гринвич, потому что нежелательно считать расстояние сразу по углам\n",
    "    geo_closest_schs = [vec2geo(ca) for ca in closest_sch]\n",
    "    sum_ = np.sum([haversine(points[i], geo_closest_sch) for geo_closest_sch in geo_closest_schs])\n",
    "    sum_distance.append(sum_)\n",
    "    print(f\"Сумма расстояний для точки {i}: {sum_} метров\")\n",
    "    # Сумма минимальна в Турции, что внушает некоторую надежду на верный результат"
   ]
  },
  {
   "cell_type": "markdown",
   "metadata": {
    "id": "S1H8kkXF4pRd"
   },
   "source": [
    "## Кинотеатры\n"
   ]
  },
  {
   "cell_type": "code",
   "execution_count": 12,
   "metadata": {
    "executionInfo": {
     "elapsed": 605,
     "status": "ok",
     "timestamp": 1604518417956,
     "user": {
      "displayName": "Aleksei Akimov",
      "photoUrl": "",
      "userId": "02898476708714068187"
     },
     "user_tz": -180
    },
    "id": "t9EYmHmO43BF"
   },
   "outputs": [],
   "source": [
    "def in_south(points, iso, data):\n",
    "    polygon = data[data.ISO2 == iso].geometry.values[0]\n",
    "    if polygon.geom_type == \"MultiPolygon\":\n",
    "        lons = []\n",
    "        lats = []\n",
    "        for poly in polygon:\n",
    "            (lon, lat) = poly.exterior.coords.xy\n",
    "            lons += list(lon)\n",
    "            lats += list(lat)\n",
    "    else:\n",
    "        (lons, lats) = polygon.exterior.coords.xy\n",
    "    southest_idx = np.argmin(lats)\n",
    "    northest_idx = np.argmax(lats)\n",
    "    southest_point = geometry.Point(lons[southest_idx], lats[southest_idx])\n",
    "    northest_point = geometry.Point(lons[northest_idx], lats[northest_idx])\n",
    "    return [haversine(point, southest_point) < haversine(point, northest_point) for point in points]\n",
    "\n",
    "\n",
    "def get_rail_by_bus_stop(iso, data): # отношение станций к остановкам\n",
    "    if iso is None:\n",
    "        return 0\n",
    "    api1 = overpy.Overpass()\n",
    "    r1 = api1.query(f\"\"\"\n",
    "        area[\"ISO3166-1\"=\"{iso}\"][admin_level=2];\n",
    "        (node[\"railway\"=\"station\"](area);\n",
    "        );\n",
    "        out center;\n",
    "        \"\"\")\n",
    "    api2 = overpy.Overpass()\n",
    "    r2 = api2.query(f\"\"\"\n",
    "        area[\"ISO3166-1\"=\"{iso}\"][admin_level=2];\n",
    "        (node[\"highway\"=\"bus_stop\"](area);\n",
    "        );\n",
    "        out center;\n",
    "        \"\"\")\n",
    "    \n",
    "    coords_rail  = [geometry.Point(float(node.lon), float(node.lat)) \n",
    "              for node in r1.nodes]\n",
    "    coords_bus  = [geometry.Point(float(node.lon), float(node.lat)) \n",
    "              for node in r2.nodes]\n",
    "    \n",
    "    coords_rail_in_south = in_south(coords_rail, iso, data)#[in_south(point, iso, data) for point in coords_rail]\n",
    "    coords_bus_in_south = in_south(coords_bus, iso, data)#[in_south(point, iso, data) for point in coords_bus]\n",
    "    if sum(coords_bus_in_south) == 0:\n",
    "        print(\"NO BUS STOP!\")\n",
    "        return 0\n",
    "    return sum(coords_rail_in_south) / sum(coords_bus_in_south), coords_rail, coords_bus\n",
    "\n",
    "def get_cinema(iso): # кинотеатры страны\n",
    "    if iso is None:\n",
    "        return []\n",
    "    api = overpy.Overpass()\n",
    "    r = api.query(f\"\"\"\n",
    "    area[\"ISO3166-1\"=\"{iso}\"][admin_level=2];\n",
    "    (node[\"amenity\"=\"cinema\"](area);\n",
    "    );\n",
    "    out center;\n",
    "    \"\"\")\n",
    "    coords  = [geometry.Point(float(node.lon), float(node.lat)) \n",
    "              for node in r.nodes]\n",
    "    return coords"
   ]
  },
  {
   "cell_type": "code",
   "execution_count": 41,
   "metadata": {
    "colab": {
     "base_uri": "https://localhost:8080/"
    },
    "executionInfo": {
     "elapsed": 662,
     "status": "ok",
     "timestamp": 1604516891413,
     "user": {
      "displayName": "Aleksei Akimov",
      "photoUrl": "",
      "userId": "02898476708714068187"
     },
     "user_tz": -180
    },
    "id": "rf3_QtT-AQth",
    "outputId": "c73258df-f0b5-4d50-fffe-d08a4b90bff1"
   },
   "outputs": [
    {
     "name": "stdout",
     "output_type": "stream",
     "text": [
      "IR :  0.09818731117824774\n",
      "PL :  0.013478923864502777\n",
      "RO :  0.1608554160855416\n",
      "NO BUS STOP!\n",
      "DE :  0\n",
      "TR :  0.0652645273200347\n",
      "GB :  0.01383633866465819\n",
      "AF :  0.0\n",
      "None :  0\n"
     ]
    }
   ],
   "source": [
    "count_rail_bus = {}\n",
    "for iso in isos:\n",
    "    get_rb = 0\n",
    "    while get_rb == 0:\n",
    "        try:\n",
    "            count_rail_bus[iso], r, b = get_rail_by_bus_stop(iso, data)\n",
    "            get_rb = 1\n",
    "            print(iso, \": \", count_rail_bus[iso])\n",
    "        except:\n",
    "            pass # В Германи нет остановок. OSM творит чудеса"
   ]
  },
  {
   "cell_type": "code",
   "execution_count": 43,
   "metadata": {
    "colab": {
     "base_uri": "https://localhost:8080/",
     "height": 35
    },
    "executionInfo": {
     "elapsed": 726,
     "status": "ok",
     "timestamp": 1604516975209,
     "user": {
      "displayName": "Aleksei Akimov",
      "photoUrl": "",
      "userId": "02898476708714068187"
     },
     "user_tz": -180
    },
    "id": "kyDUQ49sAg_6",
    "outputId": "5abc40bc-aa59-494b-d4b7-df85a96d543f"
   },
   "outputs": [
    {
     "data": {
      "application/vnd.google.colaboratory.intrinsic+json": {
       "type": "string"
      },
      "text/plain": [
       "'RO'"
      ]
     },
     "execution_count": 43,
     "metadata": {
      "tags": []
     },
     "output_type": "execute_result"
    }
   ],
   "source": [
    "iso_max_rail_bus = list(count_rail_bus.keys())[np.argmax(list(count_rail_bus.values()))]\n",
    "iso_max_rail_bus # На юге Румынии лучший жд транспорт. (несомненно)"
   ]
  },
  {
   "cell_type": "code",
   "execution_count": 13,
   "metadata": {
    "executionInfo": {
     "elapsed": 4299,
     "status": "ok",
     "timestamp": 1604518426050,
     "user": {
      "displayName": "Aleksei Akimov",
      "photoUrl": "",
      "userId": "02898476708714068187"
     },
     "user_tz": -180
    },
    "id": "GvMXHAIpv98s"
   },
   "outputs": [],
   "source": [
    "coord_cin = get_cinema(iso_max_rail_bus)"
   ]
  },
  {
   "cell_type": "code",
   "execution_count": 15,
   "metadata": {
    "executionInfo": {
     "elapsed": 445,
     "status": "ok",
     "timestamp": 1604518461042,
     "user": {
      "displayName": "Aleksei Akimov",
      "photoUrl": "",
      "userId": "02898476708714068187"
     },
     "user_tz": -180
    },
    "id": "yoPICO5bAhLm"
   },
   "outputs": [],
   "source": [
    "coord_cin_vec = [geo2vec(point) for point in coord_cin]"
   ]
  },
  {
   "cell_type": "code",
   "execution_count": 17,
   "metadata": {
    "colab": {
     "base_uri": "https://localhost:8080/"
    },
    "executionInfo": {
     "elapsed": 640,
     "status": "ok",
     "timestamp": 1604518481679,
     "user": {
      "displayName": "Aleksei Akimov",
      "photoUrl": "",
      "userId": "02898476708714068187"
     },
     "user_tz": -180
    },
    "id": "YsR-fIh5A5mK",
    "outputId": "409d2402-ca8c-4a77-a8cb-980b258a4c58"
   },
   "outputs": [
    {
     "name": "stdout",
     "output_type": "stream",
     "text": [
      "Сумма расстояний для точки 0: 8312831.47980668 метров\n",
      "Сумма расстояний для точки 1: 6106313.102443936 метров\n",
      "Сумма расстояний для точки 2: 3809013.065147459 метров\n",
      "Сумма расстояний для точки 3: 1347486.6037239286 метров\n",
      "Сумма расстояний для точки 4: 294459.20788892737 метров\n",
      "Сумма расстояний для точки 5: 2509816.3412244576 метров\n",
      "Сумма расстояний для точки 6: 5992851.722171451 метров\n",
      "Сумма расстояний для точки 7: 9971584.788254403 метров\n",
      "Сумма расстояний для точки 8: 14189240.698258802 метров\n",
      "Сумма расстояний для точки 9: 18082954.592941996 метров\n"
     ]
    }
   ],
   "source": [
    "from rtree import index\n",
    "r = index.Property()\n",
    "r.dimension = 3\n",
    "r.dat_extension = 'data'\n",
    "r.idx_extension = 'index'\n",
    "idx3d2 = index.Index(\"3d_index5\", properties=r)\n",
    "\n",
    "for i, pp in enumerate(coord_cin_vec):\n",
    "    idx3d2.insert(i, tuple(pp), tuple(pp))\n",
    "\n",
    "sum_distance = []\n",
    "for i in range(len(points_vec)):\n",
    "    vec = tuple(points_vec[i])\n",
    "    closest_cin = list(idx3d2.nearest(vec, 5, objects='raw'))[:5] # мы переводим угловые координаты в гринвич, потому что нежелательно считать расстояние сразу по углам\n",
    "    geo_closest_cins = [vec2geo(ca) for ca in closest_cin]\n",
    "    sum_ = np.sum([haversine(points[i], geo_closest_cin) for geo_closest_cin in geo_closest_cins])\n",
    "    sum_distance.append(sum_)\n",
    "    print(f\"Сумма расстояний для точки {i}: {sum_} метров\")\n",
    "    # Сумма минимальна в Румынии"
   ]
  },
  {
   "cell_type": "markdown",
   "metadata": {
    "id": "_Xc2D8fqCHuT"
   },
   "source": [
    "## Задание №3. Поездка по Нью-Йорку (маршрут - 20 баллов, визуализация - 10 баллов)."
   ]
  },
  {
   "cell_type": "markdown",
   "metadata": {
    "id": "rfyEdAG2CHuT"
   },
   "source": [
    "Добраться __на автомобиле__ от входа в ``Central Park`` __Нью-Йорка__ (со стороны ``5th Avenue``) до пересечения ``Water Street`` и ``Washington Street`` в Бруклине (откуда получаются лучшие фото Манхэттенского моста) довольно непросто - разумеется, из-за вечных пробок. Однако еще сложнее это сделать, проезжая мимо школ, где дети то и дело переходят дорогу в неположенном месте."
   ]
  },
  {
   "cell_type": "markdown",
   "metadata": {
    "id": "Q8YdGSReCHuU"
   },
   "source": [
    "Вам необходимо построить описанный выше маршрут, избегая на своем пути школы. Визуализируйте данный маршрут (также добавив школы и недоступные для проезда участки дорог) при помощи ``Folium``"
   ]
  },
  {
   "cell_type": "markdown",
   "metadata": {
    "id": "6LfyJsW4CHuU"
   },
   "source": [
    "Данные о расположении школ Нью-Йорка можно найти [здесь](https://catalog.data.gov/dataset/2019-2020-school-point-locations)"
   ]
  },
  {
   "cell_type": "code",
   "execution_count": null,
   "metadata": {
    "id": "oisK99v0CHuV"
   },
   "outputs": [],
   "source": [
    "# put your code here\n",
    "# Жаль, что не успел сделать, интересное задание..."
   ]
  },
  {
   "cell_type": "code",
   "execution_count": null,
   "metadata": {
    "id": "MEKR9gqWCWxJ"
   },
   "outputs": [],
   "source": []
  },
  {
   "cell_type": "code",
   "execution_count": null,
   "metadata": {
    "id": "HG6LEKavfgvJ"
   },
   "outputs": [],
   "source": []
  }
 ],
 "metadata": {
  "colab": {
   "collapsed_sections": [],
   "name": "HW2.ipynb",
   "provenance": []
  },
  "kernelspec": {
   "display_name": "Python 3",
   "language": "python",
   "name": "python3"
  },
  "language_info": {
   "codemirror_mode": {
    "name": "ipython",
    "version": 3
   },
   "file_extension": ".py",
   "mimetype": "text/x-python",
   "name": "python",
   "nbconvert_exporter": "python",
   "pygments_lexer": "ipython3",
   "version": "3.7.6"
  }
 },
 "nbformat": 4,
 "nbformat_minor": 1
}
