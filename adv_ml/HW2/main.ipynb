{
 "cells": [
  {
   "cell_type": "markdown",
   "metadata": {},
   "source": [
    "## Вероятностная рейтинг-система для “Что? Где? Когда?”"
   ]
  },
  {
   "cell_type": "markdown",
   "metadata": {},
   "source": [
    "Загрузим данные и посмотрим на них"
   ]
  },
  {
   "cell_type": "code",
   "execution_count": 1,
   "metadata": {},
   "outputs": [],
   "source": [
    "import json\n",
    "import numpy as np\n",
    "import pandas as pd\n",
    "import pickle\n",
    "import matplotlib.pyplot as plt\n",
    "\n",
    "from tqdm.notebook import tqdm\n",
    "from scipy.stats import spearmanr, kendalltau\n",
    "from sklearn.linear_model import LogisticRegression\n",
    "from sklearn.preprocessing import OneHotEncoder"
   ]
  },
  {
   "cell_type": "code",
   "execution_count": 2,
   "metadata": {},
   "outputs": [],
   "source": [
    "tournaments = pickle.load(open(\"chgk/tournaments.pkl\", \"rb\"))\n",
    "results = pickle.load(open(\"chgk/results.pkl\", \"rb\"))\n",
    "players = pickle.load(open(\"chgk/players.pkl\", \"rb\"))"
   ]
  },
  {
   "cell_type": "code",
   "execution_count": 3,
   "metadata": {},
   "outputs": [],
   "source": [
    "# Создаем словарики игр\n",
    "train_tour = {k:v for k, v in tournaments.items() if v[\"dateStart\"][:4] == \"2019\"}\n",
    "test_tour  = {k:v for k, v in tournaments.items() if v[\"dateStart\"][:4] == \"2020\"}"
   ]
  },
  {
   "cell_type": "code",
   "execution_count": 11,
   "metadata": {},
   "outputs": [
    {
     "name": "stdout",
     "output_type": "stream",
     "text": [
      "1011111111111111011111111110101011111111001011111111011111111011101110011111111111111011111011111111111111111111111011111011111011011011101110111111111110111111111011111111111111111X1011111111111010111001111011101101\n",
      "[2322, 4875, 13638, 35861, 40391, 53126]\n"
     ]
    }
   ],
   "source": [
    "print(results[6255][0][\"mask\"])\n",
    "print([p[\"player\"][\"id\"] for p in results[6255][0][\"teamMembers\"]])"
   ]
  },
  {
   "cell_type": "code",
   "execution_count": 35,
   "metadata": {},
   "outputs": [
    {
     "data": {
      "text/plain": [
       "{'id': 5465,\n",
       " 'name': 'Чемпионат России',\n",
       " 'dateStart': '2019-05-18T12:00:00+03:00',\n",
       " 'dateEnd': '2019-05-19T18:00:00+03:00',\n",
       " 'type': {'id': 2, 'name': 'Обычный'},\n",
       " 'season': '/seasons/52',\n",
       " 'orgcommittee': [{'id': 31038,\n",
       "   'name': 'Владимир',\n",
       "   'patronymic': 'Владимирович',\n",
       "   'surname': 'Сушков'},\n",
       "  {'id': 26469,\n",
       "   'name': 'Алексей',\n",
       "   'patronymic': 'Владимирович',\n",
       "   'surname': 'Рабин'},\n",
       "  {'id': 25882,\n",
       "   'name': 'Максим',\n",
       "   'patronymic': 'Оскарович',\n",
       "   'surname': 'Поташев'},\n",
       "  {'id': 144,\n",
       "   'name': 'Сергей',\n",
       "   'patronymic': 'Леонидович',\n",
       "   'surname': 'Абрамов'}],\n",
       " 'synchData': None,\n",
       " 'questionQty': {'1': 15, '2': 15, '3': 15, '4': 15, '5': 15, '6': 15}}"
      ]
     },
     "execution_count": 35,
     "metadata": {},
     "output_type": "execute_result"
    }
   ],
   "source": [
    "train_tour[6255]"
   ]
  },
  {
   "cell_type": "code",
   "execution_count": 33,
   "metadata": {},
   "outputs": [],
   "source": [
    "# Возьмем результаты игроков на тейне и тесте\n",
    "train_players = set()\n",
    "for tour_id in train_tour:\n",
    "    for team in results[tour_id]:\n",
    "         train_players.update(set([p[\"player\"][\"id\"] for p in team[\"teamMembers\"]]))\n",
    "            \n",
    "test_players = set()\n",
    "for tour_id in test_tour:\n",
    "    for team in results[tour_id]:\n",
    "         test_players.update(set([p[\"player\"][\"id\"] for p in team[\"teamMembers\"]]))"
   ]
  },
  {
   "cell_type": "code",
   "execution_count": 34,
   "metadata": {},
   "outputs": [
    {
     "name": "stdout",
     "output_type": "stream",
     "text": [
      "59224\n",
      "29447\n"
     ]
    }
   ],
   "source": [
    "print(len(train_players))\n",
    "print(len(test_players))"
   ]
  },
  {
   "cell_type": "markdown",
   "metadata": {},
   "source": [
    "## Постройте baseline-модель на основе линейной или логистической регрессии, которая будет обучать рейтинг-лист игроков. Замечания и подсказки:\n",
    "\n",
    "* повопросные результаты — это фактически результаты броска монетки, и их предсказание скорее всего имеет отношение к бинарной классификации;\n",
    "*  в разных турнирах вопросы совсем разного уровня сложности, поэтому модель должна это учитывать; скорее всего, модель должна будет явно обучать не только силу каждого игрока, но и сложность каждого вопроса;\n",
    "* для baseline-модели можно забыть о командах и считать, что повопросные результаты команды просто относятся к каждому из её игроков.\n",
    "\n",
    "\n",
    "будем считать, что игрок ответил на вопрос, если на вопрос ответила его команда.\n",
    "\n",
    "сложность каждого вопроса определим как отношение количества игроков ответивших на вопрос к количеству игроков в турнире"
   ]
  },
  {
   "cell_type": "code",
   "execution_count": 68,
   "metadata": {},
   "outputs": [],
   "source": [
    "question_rating = dict()\n",
    "data_question = {\"id_player\": [], \"id_question\": [], \"answered\": []}\n",
    "for tour_id in train_tour.keys():\n",
    "    unique_players_tour = set()\n",
    "    for comand in results[tour_id]:\n",
    "        for player in comand[\"teamMembers\"]:\n",
    "            unique_players_tour.add(player[\"player\"][\"id\"])\n",
    "    count_players = len(unique_players_tour) # количество игроков в туринире\n",
    "    \n",
    "    # будем считать, что все вопросы идут подряд, просто некоторые команды не успевают на них ответить\n",
    "    # Вычислим самую длинну последовательность ответов:\n",
    "    answs = [comand[\"mask\"] for comand in results[tour_id] if ('mask' in comand.keys() and comand[\"mask\"] is not None)]\n",
    "    if len(answs) > 0:\n",
    "        seq_max = max(answs, key=len)\n",
    "    else:\n",
    "        seq_max = []\n",
    "    \n",
    "    # id вопроса это туринир + номер в длинной последовательности\n",
    "    all_question_ids = [f\"{tour_id}_\" + str(i) for i in range(len(seq_max))]\n",
    "    questions_answered = [0] * len(seq_max)\n",
    "    \n",
    "    for comand in results[tour_id]:\n",
    "        if 'mask' in comand.keys() and comand[\"mask\"] is not None:\n",
    "            \n",
    "            players = [p[\"player\"][\"id\"] for p in comand[\"teamMembers\"]]\n",
    "            for i, answer in enumerate(comand[\"mask\"]):\n",
    "                if answer == \"1\":\n",
    "                    questions_answered[i] += len(players)\n",
    "                    \n",
    "                for player in players:\n",
    "                    data_question[\"id_player\"].append(player)\n",
    "                    data_question[\"id_question\"].append(all_question_ids[i])\n",
    "                    data_question[\"answered\"].append(1 if answer == \"1\" else 0)\n",
    "                    \n",
    "    for i, q_id in enumerate(all_question_ids):\n",
    "        if count_players > 0:\n",
    "            question_rating[q_id] = questions_answered[i] / count_players      \n",
    "        \n",
    "            \n",
    "question_rating = pd.DataFrame({\"id_question\": list(question_rating.keys()), \n",
    "                                \"question_rating\": list(question_rating.values())})\n",
    "data_question = pd.DataFrame(data_question)\n",
    "data_question = data_question.merge(question_rating, on='id_question')"
   ]
  },
  {
   "cell_type": "code",
   "execution_count": 73,
   "metadata": {},
   "outputs": [
    {
     "data": {
      "text/html": [
       "<div>\n",
       "<style scoped>\n",
       "    .dataframe tbody tr th:only-of-type {\n",
       "        vertical-align: middle;\n",
       "    }\n",
       "\n",
       "    .dataframe tbody tr th {\n",
       "        vertical-align: top;\n",
       "    }\n",
       "\n",
       "    .dataframe thead th {\n",
       "        text-align: right;\n",
       "    }\n",
       "</style>\n",
       "<table border=\"1\" class=\"dataframe\">\n",
       "  <thead>\n",
       "    <tr style=\"text-align: right;\">\n",
       "      <th></th>\n",
       "      <th>id_player</th>\n",
       "      <th>id_question</th>\n",
       "      <th>answered</th>\n",
       "      <th>question_rating</th>\n",
       "    </tr>\n",
       "  </thead>\n",
       "  <tbody>\n",
       "    <tr>\n",
       "      <th>0</th>\n",
       "      <td>6212</td>\n",
       "      <td>4772_0</td>\n",
       "      <td>1</td>\n",
       "      <td>0.892295</td>\n",
       "    </tr>\n",
       "    <tr>\n",
       "      <th>1</th>\n",
       "      <td>18332</td>\n",
       "      <td>4772_0</td>\n",
       "      <td>1</td>\n",
       "      <td>0.892295</td>\n",
       "    </tr>\n",
       "    <tr>\n",
       "      <th>2</th>\n",
       "      <td>18036</td>\n",
       "      <td>4772_0</td>\n",
       "      <td>1</td>\n",
       "      <td>0.892295</td>\n",
       "    </tr>\n",
       "    <tr>\n",
       "      <th>3</th>\n",
       "      <td>22799</td>\n",
       "      <td>4772_0</td>\n",
       "      <td>1</td>\n",
       "      <td>0.892295</td>\n",
       "    </tr>\n",
       "    <tr>\n",
       "      <th>4</th>\n",
       "      <td>15456</td>\n",
       "      <td>4772_0</td>\n",
       "      <td>1</td>\n",
       "      <td>0.892295</td>\n",
       "    </tr>\n",
       "    <tr>\n",
       "      <th>...</th>\n",
       "      <td>...</td>\n",
       "      <td>...</td>\n",
       "      <td>...</td>\n",
       "      <td>...</td>\n",
       "    </tr>\n",
       "    <tr>\n",
       "      <th>21014262</th>\n",
       "      <td>201802</td>\n",
       "      <td>6255_215</td>\n",
       "      <td>0</td>\n",
       "      <td>0.028529</td>\n",
       "    </tr>\n",
       "    <tr>\n",
       "      <th>21014263</th>\n",
       "      <td>207830</td>\n",
       "      <td>6255_215</td>\n",
       "      <td>0</td>\n",
       "      <td>0.028529</td>\n",
       "    </tr>\n",
       "    <tr>\n",
       "      <th>21014264</th>\n",
       "      <td>207831</td>\n",
       "      <td>6255_215</td>\n",
       "      <td>0</td>\n",
       "      <td>0.028529</td>\n",
       "    </tr>\n",
       "    <tr>\n",
       "      <th>21014265</th>\n",
       "      <td>207832</td>\n",
       "      <td>6255_215</td>\n",
       "      <td>0</td>\n",
       "      <td>0.028529</td>\n",
       "    </tr>\n",
       "    <tr>\n",
       "      <th>21014266</th>\n",
       "      <td>210786</td>\n",
       "      <td>6255_215</td>\n",
       "      <td>0</td>\n",
       "      <td>0.028529</td>\n",
       "    </tr>\n",
       "  </tbody>\n",
       "</table>\n",
       "<p>21014267 rows × 4 columns</p>\n",
       "</div>"
      ],
      "text/plain": [
       "          id_player id_question  answered  question_rating\n",
       "0              6212      4772_0         1         0.892295\n",
       "1             18332      4772_0         1         0.892295\n",
       "2             18036      4772_0         1         0.892295\n",
       "3             22799      4772_0         1         0.892295\n",
       "4             15456      4772_0         1         0.892295\n",
       "...             ...         ...       ...              ...\n",
       "21014262     201802    6255_215         0         0.028529\n",
       "21014263     207830    6255_215         0         0.028529\n",
       "21014264     207831    6255_215         0         0.028529\n",
       "21014265     207832    6255_215         0         0.028529\n",
       "21014266     210786    6255_215         0         0.028529\n",
       "\n",
       "[21014267 rows x 4 columns]"
      ]
     },
     "execution_count": 73,
     "metadata": {},
     "output_type": "execute_result"
    }
   ],
   "source": [
    "data_question"
   ]
  },
  {
   "cell_type": "markdown",
   "metadata": {},
   "source": [
    "Построим распределение сложности вопроса"
   ]
  },
  {
   "cell_type": "code",
   "execution_count": 84,
   "metadata": {},
   "outputs": [
    {
     "data": {
      "image/png": "[encoded data removed]",
      "text/plain": [
       "<Figure size 432x288 with 1 Axes>"
      ]
     },
     "metadata": {
      "needs_background": "light"
     },
     "output_type": "display_data"
    }
   ],
   "source": [
    "density = plt.hist(data_question[\"question_rating\"].sample(1000000), bins=100, density=True)\n",
    "plt.grid()"
   ]
  },
  {
   "cell_type": "markdown",
   "metadata": {},
   "source": [
    "Найдем рейтинг каждого игрока.\n",
    "\n",
    "Обучим логистичесскую регрессию предсказывать вероятность $p_i$ ответить игроком на вопрос используя единственный признак - сложность вопроса.\n",
    "\n",
    "рейтинг игрока определим как матожидание от вероятности ответить по распределению сложности вопросов"
   ]
  },
  {
   "cell_type": "code",
   "execution_count": 86,
   "metadata": {
    "scrolled": true
   },
   "outputs": [],
   "source": [
    "data_question[\"rating_player\"] = None"
   ]
  },
  {
   "cell_type": "code",
   "execution_count": 88,
   "metadata": {},
   "outputs": [
    {
     "data": {
      "text/html": [
       "<div>\n",
       "<style scoped>\n",
       "    .dataframe tbody tr th:only-of-type {\n",
       "        vertical-align: middle;\n",
       "    }\n",
       "\n",
       "    .dataframe tbody tr th {\n",
       "        vertical-align: top;\n",
       "    }\n",
       "\n",
       "    .dataframe thead th {\n",
       "        text-align: right;\n",
       "    }\n",
       "</style>\n",
       "<table border=\"1\" class=\"dataframe\">\n",
       "  <thead>\n",
       "    <tr style=\"text-align: right;\">\n",
       "      <th></th>\n",
       "      <th>id_player</th>\n",
       "      <th>id_question</th>\n",
       "      <th>answered</th>\n",
       "      <th>question_rating</th>\n",
       "      <th>rating_player</th>\n",
       "    </tr>\n",
       "  </thead>\n",
       "  <tbody>\n",
       "    <tr>\n",
       "      <th>0</th>\n",
       "      <td>6212</td>\n",
       "      <td>4772_0</td>\n",
       "      <td>1</td>\n",
       "      <td>0.892295</td>\n",
       "      <td>None</td>\n",
       "    </tr>\n",
       "    <tr>\n",
       "      <th>1</th>\n",
       "      <td>18332</td>\n",
       "      <td>4772_0</td>\n",
       "      <td>1</td>\n",
       "      <td>0.892295</td>\n",
       "      <td>None</td>\n",
       "    </tr>\n",
       "    <tr>\n",
       "      <th>2</th>\n",
       "      <td>18036</td>\n",
       "      <td>4772_0</td>\n",
       "      <td>1</td>\n",
       "      <td>0.892295</td>\n",
       "      <td>None</td>\n",
       "    </tr>\n",
       "    <tr>\n",
       "      <th>3</th>\n",
       "      <td>22799</td>\n",
       "      <td>4772_0</td>\n",
       "      <td>1</td>\n",
       "      <td>0.892295</td>\n",
       "      <td>None</td>\n",
       "    </tr>\n",
       "    <tr>\n",
       "      <th>4</th>\n",
       "      <td>15456</td>\n",
       "      <td>4772_0</td>\n",
       "      <td>1</td>\n",
       "      <td>0.892295</td>\n",
       "      <td>None</td>\n",
       "    </tr>\n",
       "    <tr>\n",
       "      <th>...</th>\n",
       "      <td>...</td>\n",
       "      <td>...</td>\n",
       "      <td>...</td>\n",
       "      <td>...</td>\n",
       "      <td>...</td>\n",
       "    </tr>\n",
       "    <tr>\n",
       "      <th>21014262</th>\n",
       "      <td>201802</td>\n",
       "      <td>6255_215</td>\n",
       "      <td>0</td>\n",
       "      <td>0.028529</td>\n",
       "      <td>None</td>\n",
       "    </tr>\n",
       "    <tr>\n",
       "      <th>21014263</th>\n",
       "      <td>207830</td>\n",
       "      <td>6255_215</td>\n",
       "      <td>0</td>\n",
       "      <td>0.028529</td>\n",
       "      <td>None</td>\n",
       "    </tr>\n",
       "    <tr>\n",
       "      <th>21014264</th>\n",
       "      <td>207831</td>\n",
       "      <td>6255_215</td>\n",
       "      <td>0</td>\n",
       "      <td>0.028529</td>\n",
       "      <td>None</td>\n",
       "    </tr>\n",
       "    <tr>\n",
       "      <th>21014265</th>\n",
       "      <td>207832</td>\n",
       "      <td>6255_215</td>\n",
       "      <td>0</td>\n",
       "      <td>0.028529</td>\n",
       "      <td>None</td>\n",
       "    </tr>\n",
       "    <tr>\n",
       "      <th>21014266</th>\n",
       "      <td>210786</td>\n",
       "      <td>6255_215</td>\n",
       "      <td>0</td>\n",
       "      <td>0.028529</td>\n",
       "      <td>None</td>\n",
       "    </tr>\n",
       "  </tbody>\n",
       "</table>\n",
       "<p>21014267 rows × 5 columns</p>\n",
       "</div>"
      ],
      "text/plain": [
       "          id_player id_question  answered  question_rating rating_player\n",
       "0              6212      4772_0         1         0.892295          None\n",
       "1             18332      4772_0         1         0.892295          None\n",
       "2             18036      4772_0         1         0.892295          None\n",
       "3             22799      4772_0         1         0.892295          None\n",
       "4             15456      4772_0         1         0.892295          None\n",
       "...             ...         ...       ...              ...           ...\n",
       "21014262     201802    6255_215         0         0.028529          None\n",
       "21014263     207830    6255_215         0         0.028529          None\n",
       "21014264     207831    6255_215         0         0.028529          None\n",
       "21014265     207832    6255_215         0         0.028529          None\n",
       "21014266     210786    6255_215         0         0.028529          None\n",
       "\n",
       "[21014267 rows x 5 columns]"
      ]
     },
     "execution_count": 88,
     "metadata": {},
     "output_type": "execute_result"
    }
   ],
   "source": [
    "data_question"
   ]
  },
  {
   "cell_type": "code",
   "execution_count": null,
   "metadata": {},
   "outputs": [],
   "source": [
    "data_idxs = data_question.groupby(\"id_player\").groups"
   ]
  },
  {
   "cell_type": "code",
   "execution_count": 104,
   "metadata": {
    "scrolled": true
   },
   "outputs": [
    {
     "data": {
      "application/vnd.jupyter.widget-view+json": {
       "model_id": "d8c494bc56544361b3c3fd1410cc7799",
       "version_major": 2,
       "version_minor": 0
      },
      "text/plain": [
       "HBox(children=(FloatProgress(value=0.0, max=59101.0), HTML(value='')))"
      ]
     },
     "metadata": {},
     "output_type": "display_data"
    },
    {
     "name": "stdout",
     "output_type": "stream",
     "text": [
      "\n"
     ]
    }
   ],
   "source": [
    "model = LogisticRegression(C=100, solver=\"lbfgs\", n_jobs=8)\n",
    "for player in tqdm(data_idxs):\n",
    "    data = data_question.iloc[data_idxs[player]]\n",
    "    data_X = data[[\"question_rating\"]]\n",
    "    data_y = data[\"answered\"]\n",
    "    if np.unique(data_y).shape[0] > 1:\n",
    "        model.fit(data_X, data_y)\n",
    "        predict = model.predict_proba(np.arange(0, 1, 0.01).reshape(-1, 1))[:, 1]\n",
    "        rating = predict @ density[0] * 0.01 # 0,01 - это шаг гистограммы\n",
    "    else:\n",
    "        rating = data_y.values[0]\n",
    "    data_question.loc[data_idxs[player]][\"rating_player\"]"
   ]
  },
  {
   "cell_type": "code",
   "execution_count": 105,
   "metadata": {},
   "outputs": [
    {
     "data": {
      "text/html": [
       "<div>\n",
       "<style scoped>\n",
       "    .dataframe tbody tr th:only-of-type {\n",
       "        vertical-align: middle;\n",
       "    }\n",
       "\n",
       "    .dataframe tbody tr th {\n",
       "        vertical-align: top;\n",
       "    }\n",
       "\n",
       "    .dataframe thead th {\n",
       "        text-align: right;\n",
       "    }\n",
       "</style>\n",
       "<table border=\"1\" class=\"dataframe\">\n",
       "  <thead>\n",
       "    <tr style=\"text-align: right;\">\n",
       "      <th></th>\n",
       "      <th>id_player</th>\n",
       "      <th>id_question</th>\n",
       "      <th>answered</th>\n",
       "      <th>question_rating</th>\n",
       "      <th>rating_player</th>\n",
       "    </tr>\n",
       "  </thead>\n",
       "  <tbody>\n",
       "    <tr>\n",
       "      <th>0</th>\n",
       "      <td>6212</td>\n",
       "      <td>4772_0</td>\n",
       "      <td>1</td>\n",
       "      <td>0.892295</td>\n",
       "      <td>0.68569</td>\n",
       "    </tr>\n",
       "    <tr>\n",
       "      <th>1</th>\n",
       "      <td>18332</td>\n",
       "      <td>4772_0</td>\n",
       "      <td>1</td>\n",
       "      <td>0.892295</td>\n",
       "      <td>0.713548</td>\n",
       "    </tr>\n",
       "    <tr>\n",
       "      <th>2</th>\n",
       "      <td>18036</td>\n",
       "      <td>4772_0</td>\n",
       "      <td>1</td>\n",
       "      <td>0.892295</td>\n",
       "      <td>0.705089</td>\n",
       "    </tr>\n",
       "    <tr>\n",
       "      <th>3</th>\n",
       "      <td>22799</td>\n",
       "      <td>4772_0</td>\n",
       "      <td>1</td>\n",
       "      <td>0.892295</td>\n",
       "      <td>0.686306</td>\n",
       "    </tr>\n",
       "    <tr>\n",
       "      <th>4</th>\n",
       "      <td>15456</td>\n",
       "      <td>4772_0</td>\n",
       "      <td>1</td>\n",
       "      <td>0.892295</td>\n",
       "      <td>0.655265</td>\n",
       "    </tr>\n",
       "    <tr>\n",
       "      <th>...</th>\n",
       "      <td>...</td>\n",
       "      <td>...</td>\n",
       "      <td>...</td>\n",
       "      <td>...</td>\n",
       "      <td>...</td>\n",
       "    </tr>\n",
       "    <tr>\n",
       "      <th>21014262</th>\n",
       "      <td>201802</td>\n",
       "      <td>6255_215</td>\n",
       "      <td>0</td>\n",
       "      <td>0.028529</td>\n",
       "      <td>0.103903</td>\n",
       "    </tr>\n",
       "    <tr>\n",
       "      <th>21014263</th>\n",
       "      <td>207830</td>\n",
       "      <td>6255_215</td>\n",
       "      <td>0</td>\n",
       "      <td>0.028529</td>\n",
       "      <td>0.0882181</td>\n",
       "    </tr>\n",
       "    <tr>\n",
       "      <th>21014264</th>\n",
       "      <td>207831</td>\n",
       "      <td>6255_215</td>\n",
       "      <td>0</td>\n",
       "      <td>0.028529</td>\n",
       "      <td>0.0799256</td>\n",
       "    </tr>\n",
       "    <tr>\n",
       "      <th>21014265</th>\n",
       "      <td>207832</td>\n",
       "      <td>6255_215</td>\n",
       "      <td>0</td>\n",
       "      <td>0.028529</td>\n",
       "      <td>0.0976358</td>\n",
       "    </tr>\n",
       "    <tr>\n",
       "      <th>21014266</th>\n",
       "      <td>210786</td>\n",
       "      <td>6255_215</td>\n",
       "      <td>0</td>\n",
       "      <td>0.028529</td>\n",
       "      <td>0.103176</td>\n",
       "    </tr>\n",
       "  </tbody>\n",
       "</table>\n",
       "<p>21014267 rows × 5 columns</p>\n",
       "</div>"
      ],
      "text/plain": [
       "          id_player id_question  answered  question_rating rating_player\n",
       "0              6212      4772_0         1         0.892295       0.68569\n",
       "1             18332      4772_0         1         0.892295      0.713548\n",
       "2             18036      4772_0         1         0.892295      0.705089\n",
       "3             22799      4772_0         1         0.892295      0.686306\n",
       "4             15456      4772_0         1         0.892295      0.655265\n",
       "...             ...         ...       ...              ...           ...\n",
       "21014262     201802    6255_215         0         0.028529      0.103903\n",
       "21014263     207830    6255_215         0         0.028529     0.0882181\n",
       "21014264     207831    6255_215         0         0.028529     0.0799256\n",
       "21014265     207832    6255_215         0         0.028529     0.0976358\n",
       "21014266     210786    6255_215         0         0.028529      0.103176\n",
       "\n",
       "[21014267 rows x 5 columns]"
      ]
     },
     "execution_count": 105,
     "metadata": {},
     "output_type": "execute_result"
    }
   ],
   "source": [
    "data_question"
   ]
  },
  {
   "cell_type": "code",
   "execution_count": 107,
   "metadata": {},
   "outputs": [
    {
     "data": {
      "text/plain": [
       "<AxesSubplot:>"
      ]
     },
     "execution_count": 107,
     "metadata": {},
     "output_type": "execute_result"
    },
    {
     "data": {
      "image/png": "[encoded data removed]",
      "text/plain": [
       "<Figure size 432x288 with 1 Axes>"
      ]
     },
     "metadata": {
      "needs_background": "light"
     },
     "output_type": "display_data"
    }
   ],
   "source": [
    "# Посмотрим на гистограмму полученного рейтинга\n",
    "data_question['rating_player'].hist(bins=100)"
   ]
  },
  {
   "cell_type": "code",
   "execution_count": 106,
   "metadata": {},
   "outputs": [],
   "source": [
    "data_question.to_csv(\"data_with_rating.csv\", index=False)"
   ]
  },
  {
   "cell_type": "code",
   "execution_count": 110,
   "metadata": {
    "scrolled": true
   },
   "outputs": [],
   "source": [
    "# Для удобства сохраним словарик игрок-рейтинг\n",
    "raiting_dict = dict(data_question.drop_duplicates(\"id_player\")[[\"id_player\",\"rating_player\"]].values)"
   ]
  },
  {
   "cell_type": "code",
   "execution_count": 116,
   "metadata": {},
   "outputs": [
    {
     "data": {
      "text/plain": [
       "0.3294623870123657"
      ]
     },
     "execution_count": 116,
     "metadata": {},
     "output_type": "execute_result"
    }
   ],
   "source": [
    "# найдем средний рейтинг\n",
    "mean_rating = np.mean(list(raiting_dict.values()))\n",
    "mean_rating"
   ]
  },
  {
   "cell_type": "markdown",
   "metadata": {},
   "source": [
    "*TASK*: Качество рейтинг-системы оценивается качеством предсказаний результатов турниров. Но сами повопросные результаты наши модели предсказывать вряд ли смогут, ведь неизвестно, насколько сложными окажутся вопросы в будущих турнирах; да и не нужны эти предсказания сами по себе. Поэтому:\n",
    "* предложите способ предсказать результаты нового турнира с известными составами, но неизвестными вопросами, в виде ранжирования команд;\n",
    "* в качестве метрики качества на тестовом наборе давайте считать ранговые корреляции Спирмена и Кендалла (их можно взять в пакете ​scipy)​между реальным ранжированием в результатах турнира и предсказанным\n",
    "1 моделью, усреднённые по тестовому множеству турниров.\n",
    "\n",
    "*ANS*:"
   ]
  },
  {
   "cell_type": "markdown",
   "metadata": {},
   "source": [
    "Отранжируем команды по рейтингу (т.е по вероятности ответить на случайный вопрос из базы). \n",
    "Вероятность команды ответить на вопрос вычислим из рейтинга состава команды: \n",
    "    \n",
    "$R = 1 - \\prod\\limits_{i\\in T} (1 - r_i)$\n",
    "\n",
    "* $r_i$ - рейтинг $i$ - го игрока \n",
    "* $T$ - состав команды\n",
    "* $R$ - рейтинг команды"
   ]
  },
  {
   "cell_type": "code",
   "execution_count": 117,
   "metadata": {},
   "outputs": [],
   "source": [
    "def command_rank(command, raitings):\n",
    "    inv_rate = 1\n",
    "    players = [p[\"player\"][\"id\"] for p in command]\n",
    "    for player in players:\n",
    "        if player in raitings.keys():\n",
    "            inv_rate = inv_rate * (1 - raiting_dict[player])\n",
    "        else:\n",
    "            inv_rate = inv_rate * (1 - mean_rating)\n",
    "    return 1 - inv_rate"
   ]
  },
  {
   "cell_type": "code",
   "execution_count": 120,
   "metadata": {},
   "outputs": [
    {
     "name": "stdout",
     "output_type": "stream",
     "text": [
      "Mean spearman coeff: 0.6573543029261981, mean kendall coeff: 0.5047316974436908\n"
     ]
    }
   ],
   "source": [
    "SPEARMAN = []\n",
    "KENDALL = []\n",
    "for tour in test_tour.keys():\n",
    "    \n",
    "    ranks_true = []\n",
    "    ranks_pred = []\n",
    "    \n",
    "    for command in results[tour]:\n",
    "        if 'position' in command.keys() and 'teamMembers' in command.keys():\n",
    "            ranks_true.append(-command['position'])\n",
    "            ranks_pred.append(command_rank(command['teamMembers'], raiting_dict))\n",
    "    spearman_coef = spearmanr(ranks_true, ranks_pred)[0]\n",
    "    kendall_coef = kendalltau(ranks_true, ranks_pred)[0]\n",
    "    \n",
    "    if not np.isnan(spearman_coef):\n",
    "        SPEARMAN.append(spearman_coef)\n",
    "    if not np.isnan(kendall_coef):\n",
    "        KENDALL.append(kendall_coef)\n",
    "        \n",
    "print(f\"Mean spearman coeff: {np.mean(SPEARMAN)}, mean kendall coeff: {np.mean(KENDALL)}\")"
   ]
  },
  {
   "cell_type": "markdown",
   "metadata": {},
   "source": [
    "*TASK*: Теперь главное: ЧГК — это всё-таки командная игра. Поэтому:\n",
    "* предложите способ учитывать то, что на вопрос отвечают сразу несколько игроков; скорее всего, понадобятся скрытые переменные; не стесняйтесь делать упрощающие предположения, но теперь переменные “игрок X ответил на вопрос Y” при условии данных должны стать зависимыми для игроков одной и той же команды;\n",
    "* разработайте EM-схему для обучения этой модели, реализуйте её в коде;\n",
    "* обучите несколько итераций, убедитесь, что целевые метрики со временем растут (скорее всего, ненамного, но расти должны), выберите лучшую модель, используя целевые метрики."
   ]
  },
  {
   "cell_type": "markdown",
   "metadata": {},
   "source": [
    "Для начала запишем id команд"
   ]
  },
  {
   "cell_type": "code",
   "execution_count": 122,
   "metadata": {
    "scrolled": true
   },
   "outputs": [],
   "source": [
    "def id_2_id(id_):\n",
    "    return int(id_.split(\"_\")[0])\n",
    "data_question[\"team_id\"] = data_question[\"id_question\"].apply(id_2_id)"
   ]
  },
  {
   "cell_type": "code",
   "execution_count": 123,
   "metadata": {},
   "outputs": [
    {
     "data": {
      "text/html": [
       "<div>\n",
       "<style scoped>\n",
       "    .dataframe tbody tr th:only-of-type {\n",
       "        vertical-align: middle;\n",
       "    }\n",
       "\n",
       "    .dataframe tbody tr th {\n",
       "        vertical-align: top;\n",
       "    }\n",
       "\n",
       "    .dataframe thead th {\n",
       "        text-align: right;\n",
       "    }\n",
       "</style>\n",
       "<table border=\"1\" class=\"dataframe\">\n",
       "  <thead>\n",
       "    <tr style=\"text-align: right;\">\n",
       "      <th></th>\n",
       "      <th>id_player</th>\n",
       "      <th>id_question</th>\n",
       "      <th>answered</th>\n",
       "      <th>question_rating</th>\n",
       "      <th>rating_player</th>\n",
       "      <th>team_id</th>\n",
       "    </tr>\n",
       "  </thead>\n",
       "  <tbody>\n",
       "    <tr>\n",
       "      <th>0</th>\n",
       "      <td>6212</td>\n",
       "      <td>4772_0</td>\n",
       "      <td>1</td>\n",
       "      <td>0.892295</td>\n",
       "      <td>0.68569</td>\n",
       "      <td>4772</td>\n",
       "    </tr>\n",
       "    <tr>\n",
       "      <th>1</th>\n",
       "      <td>18332</td>\n",
       "      <td>4772_0</td>\n",
       "      <td>1</td>\n",
       "      <td>0.892295</td>\n",
       "      <td>0.713548</td>\n",
       "      <td>4772</td>\n",
       "    </tr>\n",
       "    <tr>\n",
       "      <th>2</th>\n",
       "      <td>18036</td>\n",
       "      <td>4772_0</td>\n",
       "      <td>1</td>\n",
       "      <td>0.892295</td>\n",
       "      <td>0.705089</td>\n",
       "      <td>4772</td>\n",
       "    </tr>\n",
       "    <tr>\n",
       "      <th>3</th>\n",
       "      <td>22799</td>\n",
       "      <td>4772_0</td>\n",
       "      <td>1</td>\n",
       "      <td>0.892295</td>\n",
       "      <td>0.686306</td>\n",
       "      <td>4772</td>\n",
       "    </tr>\n",
       "    <tr>\n",
       "      <th>4</th>\n",
       "      <td>15456</td>\n",
       "      <td>4772_0</td>\n",
       "      <td>1</td>\n",
       "      <td>0.892295</td>\n",
       "      <td>0.655265</td>\n",
       "      <td>4772</td>\n",
       "    </tr>\n",
       "    <tr>\n",
       "      <th>...</th>\n",
       "      <td>...</td>\n",
       "      <td>...</td>\n",
       "      <td>...</td>\n",
       "      <td>...</td>\n",
       "      <td>...</td>\n",
       "      <td>...</td>\n",
       "    </tr>\n",
       "    <tr>\n",
       "      <th>21014262</th>\n",
       "      <td>201802</td>\n",
       "      <td>6255_215</td>\n",
       "      <td>0</td>\n",
       "      <td>0.028529</td>\n",
       "      <td>0.103903</td>\n",
       "      <td>6255</td>\n",
       "    </tr>\n",
       "    <tr>\n",
       "      <th>21014263</th>\n",
       "      <td>207830</td>\n",
       "      <td>6255_215</td>\n",
       "      <td>0</td>\n",
       "      <td>0.028529</td>\n",
       "      <td>0.0882181</td>\n",
       "      <td>6255</td>\n",
       "    </tr>\n",
       "    <tr>\n",
       "      <th>21014264</th>\n",
       "      <td>207831</td>\n",
       "      <td>6255_215</td>\n",
       "      <td>0</td>\n",
       "      <td>0.028529</td>\n",
       "      <td>0.0799256</td>\n",
       "      <td>6255</td>\n",
       "    </tr>\n",
       "    <tr>\n",
       "      <th>21014265</th>\n",
       "      <td>207832</td>\n",
       "      <td>6255_215</td>\n",
       "      <td>0</td>\n",
       "      <td>0.028529</td>\n",
       "      <td>0.0976358</td>\n",
       "      <td>6255</td>\n",
       "    </tr>\n",
       "    <tr>\n",
       "      <th>21014266</th>\n",
       "      <td>210786</td>\n",
       "      <td>6255_215</td>\n",
       "      <td>0</td>\n",
       "      <td>0.028529</td>\n",
       "      <td>0.103176</td>\n",
       "      <td>6255</td>\n",
       "    </tr>\n",
       "  </tbody>\n",
       "</table>\n",
       "<p>21014267 rows × 6 columns</p>\n",
       "</div>"
      ],
      "text/plain": [
       "          id_player id_question  answered  question_rating rating_player  \\\n",
       "0              6212      4772_0         1         0.892295       0.68569   \n",
       "1             18332      4772_0         1         0.892295      0.713548   \n",
       "2             18036      4772_0         1         0.892295      0.705089   \n",
       "3             22799      4772_0         1         0.892295      0.686306   \n",
       "4             15456      4772_0         1         0.892295      0.655265   \n",
       "...             ...         ...       ...              ...           ...   \n",
       "21014262     201802    6255_215         0         0.028529      0.103903   \n",
       "21014263     207830    6255_215         0         0.028529     0.0882181   \n",
       "21014264     207831    6255_215         0         0.028529     0.0799256   \n",
       "21014265     207832    6255_215         0         0.028529     0.0976358   \n",
       "21014266     210786    6255_215         0         0.028529      0.103176   \n",
       "\n",
       "          team_id  \n",
       "0            4772  \n",
       "1            4772  \n",
       "2            4772  \n",
       "3            4772  \n",
       "4            4772  \n",
       "...           ...  \n",
       "21014262     6255  \n",
       "21014263     6255  \n",
       "21014264     6255  \n",
       "21014265     6255  \n",
       "21014266     6255  \n",
       "\n",
       "[21014267 rows x 6 columns]"
      ]
     },
     "execution_count": 123,
     "metadata": {},
     "output_type": "execute_result"
    }
   ],
   "source": [
    "data_question"
   ]
  },
  {
   "cell_type": "code",
   "execution_count": 18,
   "metadata": {},
   "outputs": [],
   "source": [
    "p_init = X[\"rating_player\"].values"
   ]
  },
  {
   "cell_type": "markdown",
   "metadata": {},
   "source": [
    "Составим функцию правдоподобия\n",
    "\n",
    "$P(D|\\Theta) = \\prod\\limits_{i\\in T}\\prod\\limits_{j\\in Q}\\prod\\limits_{k\\in K}p_{k,i}(\\theta)^{z_{i,j,k}}(1-p_{k,i}(\\theta))^{1-z_{i,j,k}}$\n",
    "\n",
    "где:\n",
    "\n",
    "* $z_{i,j,k}$ - вектор скрытых переменных. на k-м месте стоит 1, если k-й игрок дал верный ответ и 0 если не дал верного ответа\n",
    "* $T$ - множеcтво команд\n",
    "\n",
    "* $Q$ - множество вопросов\n",
    "\n",
    "* $K$ множество игроков в команде\n",
    "\n",
    "Тогда на E шаге EM алгоритма мы оцениваем параметры $z_{i,j,k}$, а на M шаге - максимизируем правдоподобие $P(D|\\Theta)$ используя вместо истинных z - их мат ожидание. Параметры $\\Theta$ будут определять \"силу\" игрока и сложность вопросов (два вектора в стык, размерность, соотвественно len(players) + len(questions)). функция $p_{k,i}(\\theta)$ все та же сигмоида.\n",
    "\n",
    "Оценить параметры $z_{i,j,k}$ можно по теореме Байеса:\n",
    "\n",
    "$P(Ans_i|A_T) = \\dfrac{P(Ans_T|Ans_i)P(Ans_i)}{P(Ans_T)} = \\dfrac{P(Ans_i)}{P(Ans_T)} = \\dfrac{P(Ans_i)}{1 - \\prod\\limits_{j \\in K} (1 - P(Ans_j))}$\n",
    "\n",
    "\n",
    "Где событие $Ans_i$ - игрок с номером $i$ ответил на вопрос, событие $Ans_T$ - команда ответила на вопрос\n",
    "\n",
    "данные об ответах, соответсвенно, используются неявно: если команда не ответила, то все скрытые переменные зануляются, если кто-то ответил, то $P(Ans_T|Ans_i)=1$ "
   ]
  },
  {
   "cell_type": "code",
   "execution_count": 129,
   "metadata": {},
   "outputs": [],
   "source": [
    "#one-hot encode indexes of player and question \n",
    "encoder = OneHotEncoder(handle_unknown='ignore')\n",
    "encoder.fit(data_question[['id_player', 'id_question']])\n",
    "sparce_matrix = encoder.transform(data_question[['id_player', 'id_question']])\n",
    "counts = np.array((sparce_matrix != 0).sum(axis=0)).ravel()\n",
    "\n",
    "#theta = сила игрока и сложность вопроса\n",
    "theta = np.random.randn(sparce_matrix.shape[1])\n",
    "p_player_to_answer = 1 / (1 + np.exp(-sparce_matrix.dot(theta))) \n",
    "\n",
    "data_question['negative_prob'] = 1 - p_player_to_answer\n",
    "m_df = data_question[['team_id', 'id_question', 'negative_prob']].groupby(by=['team_id', 'id_question'], sort=False, as_index=False).prod()\n",
    "from_id = (m_df['team_id'].apply(str) + m_df['id_question'].apply(str)).apply(int)\n",
    "to_id = (data_question['team_id'].apply(str) + data_question['id_question'].apply(str)).apply(int)"
   ]
  },
  {
   "cell_type": "code",
   "execution_count": 137,
   "metadata": {},
   "outputs": [
    {
     "data": {
      "text/html": [
       "<div>\n",
       "<style scoped>\n",
       "    .dataframe tbody tr th:only-of-type {\n",
       "        vertical-align: middle;\n",
       "    }\n",
       "\n",
       "    .dataframe tbody tr th {\n",
       "        vertical-align: top;\n",
       "    }\n",
       "\n",
       "    .dataframe thead th {\n",
       "        text-align: right;\n",
       "    }\n",
       "</style>\n",
       "<table border=\"1\" class=\"dataframe\">\n",
       "  <thead>\n",
       "    <tr style=\"text-align: right;\">\n",
       "      <th></th>\n",
       "      <th>id_player</th>\n",
       "      <th>id_question</th>\n",
       "      <th>answered</th>\n",
       "      <th>question_rating</th>\n",
       "      <th>rating_player</th>\n",
       "      <th>team_id</th>\n",
       "      <th>negative_prob</th>\n",
       "    </tr>\n",
       "  </thead>\n",
       "  <tbody>\n",
       "    <tr>\n",
       "      <th>0</th>\n",
       "      <td>6212</td>\n",
       "      <td>4772_0</td>\n",
       "      <td>1</td>\n",
       "      <td>0.892295</td>\n",
       "      <td>0.68569</td>\n",
       "      <td>4772</td>\n",
       "      <td>0.151106</td>\n",
       "    </tr>\n",
       "    <tr>\n",
       "      <th>1</th>\n",
       "      <td>18332</td>\n",
       "      <td>4772_0</td>\n",
       "      <td>1</td>\n",
       "      <td>0.892295</td>\n",
       "      <td>0.713548</td>\n",
       "      <td>4772</td>\n",
       "      <td>0.279038</td>\n",
       "    </tr>\n",
       "    <tr>\n",
       "      <th>2</th>\n",
       "      <td>18036</td>\n",
       "      <td>4772_0</td>\n",
       "      <td>1</td>\n",
       "      <td>0.892295</td>\n",
       "      <td>0.705089</td>\n",
       "      <td>4772</td>\n",
       "      <td>0.114934</td>\n",
       "    </tr>\n",
       "    <tr>\n",
       "      <th>3</th>\n",
       "      <td>22799</td>\n",
       "      <td>4772_0</td>\n",
       "      <td>1</td>\n",
       "      <td>0.892295</td>\n",
       "      <td>0.686306</td>\n",
       "      <td>4772</td>\n",
       "      <td>0.052423</td>\n",
       "    </tr>\n",
       "    <tr>\n",
       "      <th>4</th>\n",
       "      <td>15456</td>\n",
       "      <td>4772_0</td>\n",
       "      <td>1</td>\n",
       "      <td>0.892295</td>\n",
       "      <td>0.655265</td>\n",
       "      <td>4772</td>\n",
       "      <td>0.308691</td>\n",
       "    </tr>\n",
       "    <tr>\n",
       "      <th>...</th>\n",
       "      <td>...</td>\n",
       "      <td>...</td>\n",
       "      <td>...</td>\n",
       "      <td>...</td>\n",
       "      <td>...</td>\n",
       "      <td>...</td>\n",
       "      <td>...</td>\n",
       "    </tr>\n",
       "    <tr>\n",
       "      <th>21014262</th>\n",
       "      <td>201802</td>\n",
       "      <td>6255_215</td>\n",
       "      <td>0</td>\n",
       "      <td>0.028529</td>\n",
       "      <td>0.103903</td>\n",
       "      <td>6255</td>\n",
       "      <td>0.823291</td>\n",
       "    </tr>\n",
       "    <tr>\n",
       "      <th>21014263</th>\n",
       "      <td>207830</td>\n",
       "      <td>6255_215</td>\n",
       "      <td>0</td>\n",
       "      <td>0.028529</td>\n",
       "      <td>0.0882181</td>\n",
       "      <td>6255</td>\n",
       "      <td>0.863519</td>\n",
       "    </tr>\n",
       "    <tr>\n",
       "      <th>21014264</th>\n",
       "      <td>207831</td>\n",
       "      <td>6255_215</td>\n",
       "      <td>0</td>\n",
       "      <td>0.028529</td>\n",
       "      <td>0.0799256</td>\n",
       "      <td>6255</td>\n",
       "      <td>0.598981</td>\n",
       "    </tr>\n",
       "    <tr>\n",
       "      <th>21014265</th>\n",
       "      <td>207832</td>\n",
       "      <td>6255_215</td>\n",
       "      <td>0</td>\n",
       "      <td>0.028529</td>\n",
       "      <td>0.0976358</td>\n",
       "      <td>6255</td>\n",
       "      <td>0.587710</td>\n",
       "    </tr>\n",
       "    <tr>\n",
       "      <th>21014266</th>\n",
       "      <td>210786</td>\n",
       "      <td>6255_215</td>\n",
       "      <td>0</td>\n",
       "      <td>0.028529</td>\n",
       "      <td>0.103176</td>\n",
       "      <td>6255</td>\n",
       "      <td>0.887208</td>\n",
       "    </tr>\n",
       "  </tbody>\n",
       "</table>\n",
       "<p>21014267 rows × 7 columns</p>\n",
       "</div>"
      ],
      "text/plain": [
       "          id_player id_question  answered  question_rating rating_player  \\\n",
       "0              6212      4772_0         1         0.892295       0.68569   \n",
       "1             18332      4772_0         1         0.892295      0.713548   \n",
       "2             18036      4772_0         1         0.892295      0.705089   \n",
       "3             22799      4772_0         1         0.892295      0.686306   \n",
       "4             15456      4772_0         1         0.892295      0.655265   \n",
       "...             ...         ...       ...              ...           ...   \n",
       "21014262     201802    6255_215         0         0.028529      0.103903   \n",
       "21014263     207830    6255_215         0         0.028529     0.0882181   \n",
       "21014264     207831    6255_215         0         0.028529     0.0799256   \n",
       "21014265     207832    6255_215         0         0.028529     0.0976358   \n",
       "21014266     210786    6255_215         0         0.028529      0.103176   \n",
       "\n",
       "          team_id  negative_prob  \n",
       "0            4772       0.151106  \n",
       "1            4772       0.279038  \n",
       "2            4772       0.114934  \n",
       "3            4772       0.052423  \n",
       "4            4772       0.308691  \n",
       "...           ...            ...  \n",
       "21014262     6255       0.823291  \n",
       "21014263     6255       0.863519  \n",
       "21014264     6255       0.598981  \n",
       "21014265     6255       0.587710  \n",
       "21014266     6255       0.887208  \n",
       "\n",
       "[21014267 rows x 7 columns]"
      ]
     },
     "execution_count": 137,
     "metadata": {},
     "output_type": "execute_result"
    }
   ],
   "source": [
    "data_question"
   ]
  },
  {
   "cell_type": "code",
   "execution_count": 148,
   "metadata": {
    "scrolled": true
   },
   "outputs": [],
   "source": [
    "def e_step(p_player_to_answer):\n",
    "    data_question['negative_prob'] = 1 - p_player_to_answer\n",
    "    prods = data_question[['team_id', 'id_question', 'negative_prob']].groupby(by=['team_id', 'id_question'], sort=False, as_index=False).prod()['negative_prob']\n",
    "    prods.index = from_id\n",
    "    prods = prods[to_id].to_numpy()\n",
    "    z_hidden = p_player_to_answer / (1 - prods)\n",
    "    z_hidden[data_question['answered'] == 0] = 0 # Никто не дал верного ответа. По умолчанию предполагается, что ответ дан\n",
    "    return z_hidden\n",
    "\n",
    "def m_step(sparce_matrix, theta, z_hidden, iterations=30, alpha=2):\n",
    "    theta = theta.copy()\n",
    "    for i in range(iterations):\n",
    "        p_player_to_answer = 1 / (1 + np.exp(-sparce_matrix.dot(theta)))\n",
    "        #Градиентный спуск\n",
    "        theta = theta + alpha * ((sparce_matrix.T).dot(z_hidden * (1 - p_player_to_answer) - (1 - z_hidden) * p_player_to_answer) / counts)\n",
    "    return theta\n",
    "\n",
    "def likelihood(z_hidden, sparce_matrix, theta):\n",
    "    p_player_to_answer = 1 / (1 + np.exp(-sparce_matrix.dot(theta)))\n",
    "    return np.mean(z_hidden * np.log(p_player_to_answer) + (1 - z_hidden) * np.log(1 - p_player_to_answer))"
   ]
  },
  {
   "cell_type": "code",
   "execution_count": 149,
   "metadata": {},
   "outputs": [
    {
     "data": {
      "application/vnd.jupyter.widget-view+json": {
       "model_id": "8c07f7bcf6db420e9427b5f1e6f41ac2",
       "version_major": 2,
       "version_minor": 0
      },
      "text/plain": [
       "HBox(children=(FloatProgress(value=0.0, max=10.0), HTML(value='')))"
      ]
     },
     "metadata": {},
     "output_type": "display_data"
    },
    {
     "name": "stdout",
     "output_type": "stream",
     "text": [
      "Итерация:  0\n",
      "Логарифм правдоподобия: -0.32167344245111557\n",
      "\n",
      "\n",
      "Итерация:  1\n",
      "Логарифм правдоподобия: -0.22650721401462076\n",
      "\n",
      "\n",
      "Итерация:  2\n",
      "Логарифм правдоподобия: -0.1775445453188482\n",
      "\n",
      "\n",
      "Итерация:  3\n",
      "Логарифм правдоподобия: -0.14705974099644897\n",
      "\n",
      "\n",
      "Итерация:  4\n",
      "Логарифм правдоподобия: -0.12611592866572696\n",
      "\n",
      "\n",
      "Итерация:  5\n",
      "Логарифм правдоподобия: -0.11079174521053305\n",
      "\n",
      "\n",
      "Итерация:  6\n",
      "Логарифм правдоподобия: -0.09907148093569806\n",
      "\n",
      "\n",
      "Итерация:  7\n",
      "Логарифм правдоподобия: -0.08980706153272415\n",
      "\n",
      "\n",
      "Итерация:  8\n",
      "Логарифм правдоподобия: -0.08229475954648957\n",
      "\n",
      "\n",
      "Итерация:  9\n",
      "Логарифм правдоподобия: -0.07607814604322664\n",
      "\n",
      "\n",
      "\n"
     ]
    }
   ],
   "source": [
    "iterations = 10\n",
    "for i in tqdm(range(iterations)):\n",
    "    if i == 0:\n",
    "        p_player_to_answer = 1 / (1 + np.exp(-sparce_matrix.dot(theta)))\n",
    "        z_hidden = e_step(p_player_to_answer)\n",
    "    theta = m_step(sparce_matrix, theta, z_hidden)\n",
    "    p_player_to_answer = 1 / (1 + np.exp(-sparce_matrix.dot(theta)))\n",
    "    z_hidden = e_step(p_player_to_answer)\n",
    "    print('Итерация: ', i)\n",
    "    print('Логарифм правдоподобия:', likelihood(z_hidden, sparce_matrix, theta))\n",
    "    print('\\n')"
   ]
  },
  {
   "cell_type": "code",
   "execution_count": 154,
   "metadata": {},
   "outputs": [],
   "source": [
    "# выудим значения силы игроков и сложнсти вопросов\n",
    "index = []\n",
    "for feat in encoder.get_feature_names():\n",
    "    index.append(feat[3:])\n",
    "\n",
    "em_weight_player = {}\n",
    "for player in data_question.id_player.unique():\n",
    "    em_weight_player[player] = theta[index.index(str(player))]\n",
    "\n",
    "em_question = {}\n",
    "for q in data_question.id_question.unique():\n",
    "    em_question[q] = theta[index.index(q)]"
   ]
  },
  {
   "cell_type": "code",
   "execution_count": 155,
   "metadata": {},
   "outputs": [
    {
     "data": {
      "image/png": "[encoded data removed]",
      "text/plain": [
       "<Figure size 432x288 with 1 Axes>"
      ]
     },
     "metadata": {
      "needs_background": "light"
     },
     "output_type": "display_data"
    }
   ],
   "source": [
    "density = plt.hist(em_question.values(), bins=100, density=True)"
   ]
  },
  {
   "cell_type": "code",
   "execution_count": 159,
   "metadata": {},
   "outputs": [],
   "source": [
    "data_question[\"rating_player_em\"] = None"
   ]
  },
  {
   "cell_type": "code",
   "execution_count": 186,
   "metadata": {},
   "outputs": [
    {
     "data": {
      "application/vnd.jupyter.widget-view+json": {
       "model_id": "9a83dd4af3cd4e11a0d00a9f67ba7da6",
       "version_major": 2,
       "version_minor": 0
      },
      "text/plain": [
       "HBox(children=(FloatProgress(value=0.0, max=59101.0), HTML(value='')))"
      ]
     },
     "metadata": {},
     "output_type": "display_data"
    },
    {
     "name": "stdout",
     "output_type": "stream",
     "text": [
      "\n"
     ]
    }
   ],
   "source": [
    "# Тогда рейтинг игрока это средняя сила игрока с учетом сложности вопроса\n",
    "raiting_em_dict = {}\n",
    "for player in tqdm(data_question.id_player.unique()):\n",
    "    predict = 1 / (1 + np.exp(-(em_weight_player[player] + density[1][:100])))\n",
    "    rating = predict @ density[0] * 0.01\n",
    "    raiting_em_dict[player] = rating"
   ]
  },
  {
   "cell_type": "code",
   "execution_count": 187,
   "metadata": {},
   "outputs": [
    {
     "data": {
      "text/plain": [
       "0.0018274360674310573"
      ]
     },
     "execution_count": 187,
     "metadata": {},
     "output_type": "execute_result"
    }
   ],
   "source": [
    "mean_rating = np.mean(list(raiting_em_dict.values()))\n",
    "mean_rating"
   ]
  },
  {
   "cell_type": "code",
   "execution_count": 189,
   "metadata": {},
   "outputs": [
    {
     "data": {
      "image/png": "[encoded data removed]",
      "text/plain": [
       "<Figure size 432x288 with 1 Axes>"
      ]
     },
     "metadata": {
      "needs_background": "light"
     },
     "output_type": "display_data"
    }
   ],
   "source": [
    "_ = plt.hist(list(raiting_em_dict.values()), bins=100, density=True)"
   ]
  },
  {
   "cell_type": "code",
   "execution_count": 224,
   "metadata": {
    "scrolled": true
   },
   "outputs": [
    {
     "data": {
      "application/vnd.jupyter.widget-view+json": {
       "model_id": "67f37762e53042cfb3c76d955520ad3d",
       "version_major": 2,
       "version_minor": 0
      },
      "text/plain": [
       "HBox(children=(FloatProgress(value=0.0, max=418.0), HTML(value='')))"
      ]
     },
     "metadata": {},
     "output_type": "display_data"
    },
    {
     "name": "stdout",
     "output_type": "stream",
     "text": [
      "\n",
      "Mean Spearman:  0.7251147653362026\n",
      "Mean Kendalltau:  0.5676728919585451\n"
     ]
    }
   ],
   "source": [
    "spearmans = []\n",
    "kendalls =[]\n",
    "\n",
    "for tour_id in tqdm(test_tour):\n",
    "    if  results[tour_id]:\n",
    "        if 'position' in results[tour_id][0].keys():\n",
    "            true_team_ranks=[]\n",
    "            predicted_team_ranks=[]\n",
    "\n",
    "            for _, team in enumerate(results[tour_id]):\n",
    "                true_team_ranks.append(team['position'])\n",
    "\n",
    "                prob_to_answer_wrong = 1\n",
    "                for player in team['teamMembers']:\n",
    "                    player_id = player['player']['id'] \n",
    "                    if player_id in raiting_em_dict:\n",
    "                        player_rating = raiting_em_dict[player_id]\n",
    "                    else:\n",
    "                        player_rating = mean_rating\n",
    "                    prob_to_answer_wrong *= (1 - player_rating)\n",
    "                predicted_team_ranks.append(1 - prob_to_answer_wrong)\n",
    "                               \n",
    "                \n",
    "            spearman = spearmanr(np.asarray(predicted_team_ranks), -np.asarray(true_team_ranks))[0]\n",
    "            kendall = kendalltau(np.asarray(predicted_team_ranks), -np.asarray(true_team_ranks))[0]       \n",
    "            spearmans.append(spearman)\n",
    "            kendalls.append(kendall)\n",
    "            \n",
    "spearmans = [i for i in spearmans if not i!=i]\n",
    "kendalls = [i for i in kendalls if not i!=i]\n",
    "\n",
    "print('Mean Spearman: ',sum(spearmans) / len(spearmans))\n",
    "print('Mean Kendalltau: ',sum(kendalls) / len(kendalls))"
   ]
  },
  {
   "cell_type": "code",
   "execution_count": 199,
   "metadata": {},
   "outputs": [],
   "source": [
    "# Стало получше"
   ]
  },
  {
   "cell_type": "markdown",
   "metadata": {},
   "source": [
    "А что там с вопросами? Постройте “рейтинг-лист” турниров по сложности вопросов. Соответствует ли он интуиции (например, на чемпионате мира в целом должны быть сложные вопросы, а на турнирах для школьников — простые)? Если будет интересно: постройте топ сложных и простых вопросов со ссылками на конкретные записи в базе вопросов ЧГК (это чисто техническое дело, тут никакого ML нету)."
   ]
  },
  {
   "cell_type": "code",
   "execution_count": 226,
   "metadata": {},
   "outputs": [],
   "source": [
    "tournament_difficulties = {}\n",
    "for tour_id in train_tour:\n",
    "    tournament_difficulty = []\n",
    "    if len(results[tour_id]) > 0:\n",
    "        if 'mask' in results[tour_id][0].keys():\n",
    "            for i in range(len(results[tour_id][0]['mask'] or [])):\n",
    "                question_id = str(tour_id) + \"_\" + str(i)\n",
    "                try:\n",
    "                    tournament_difficulty.append(theta[index.index(str(question_id))])\n",
    "                except KeyError:\n",
    "                    pass\n",
    "            if len(tournament_difficulty) > 0:\n",
    "                tournament_difficulties[tour_id] = sum(tournament_difficulty) / len(tournament_difficulty)\n",
    "tournament_difficulties = pd.Series(tournament_difficulties).sort_values()"
   ]
  },
  {
   "cell_type": "markdown",
   "metadata": {},
   "source": [
    "## Сложные турниры"
   ]
  },
  {
   "cell_type": "code",
   "execution_count": 227,
   "metadata": {},
   "outputs": [
    {
     "name": "stdout",
     "output_type": "stream",
     "text": [
      "1. Чемпионат Санкт-Петербурга. Первая лига\n",
      "2. Угрюмый Ёрш\n",
      "3. Синхрон высшей лиги Москвы\n",
      "4. Чемпионат Мира. Этап 3. Группа В\n",
      "5. Первенство правого полушария\n",
      "6. Воображаемый музей\n",
      "7. Чемпионат Мира. Этап 2. Группа В\n",
      "8. Чемпионат России\n",
      "9. Ускользающая сова\n",
      "10. Знание – Сила VI\n"
     ]
    }
   ],
   "source": [
    "for i, tour_id in enumerate(tournament_difficulties.index[:10], 1):\n",
    "    print(str(i)+ \". \" +  tournaments[tour_id][\"name\"])"
   ]
  },
  {
   "cell_type": "code",
   "execution_count": 221,
   "metadata": {},
   "outputs": [],
   "source": [
    "# Почему бы и нет"
   ]
  },
  {
   "cell_type": "code",
   "execution_count": null,
   "metadata": {},
   "outputs": [],
   "source": []
  }
 ],
 "metadata": {
  "kernelspec": {
   "display_name": "Python 3",
   "language": "python",
   "name": "python3"
  },
  "language_info": {
   "codemirror_mode": {
    "name": "ipython",
    "version": 3
   },
   "file_extension": ".py",
   "mimetype": "text/x-python",
   "name": "python",
   "nbconvert_exporter": "python",
   "pygments_lexer": "ipython3",
   "version": "3.7.6"
  }
 },
 "nbformat": 4,
 "nbformat_minor": 2
}
