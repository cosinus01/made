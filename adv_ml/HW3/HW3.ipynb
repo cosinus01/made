{
 "cells": [
  {
   "cell_type": "markdown",
   "metadata": {},
   "source": [
    "# 4. Методы сэмплирования"
   ]
  },
  {
   "cell_type": "markdown",
   "metadata": {},
   "source": [
    "В этом небольшом домашнем задании мы попробуем улучшить метод Шерлока Холмса. Как известно, в рассказе The Adventure of the Dancing Men великий сыщик расшифровал загадочные письмена.\n",
    "Пользовался он для этого так называемым частотным методом: смотрел, какие буквы чаще встречаются в зашифрованных текстах, и пытался подставить буквы в соответствии с частотной таблицей: E — самая частая и так далее.\n",
    "В этом задании мы будем разрабатывать более современный и продвинутый вариант такого частотного метода. В качестве корпусов текстов для подсчётов частот можете взять что угодно, но для удобства вот вам “Война и мир” по-русски и по-английски.\n"
   ]
  },
  {
   "cell_type": "code",
   "execution_count": 1,
   "metadata": {},
   "outputs": [],
   "source": [
    "import re\n",
    "from collections import Counter\n",
    "import random\n",
    "import matplotlib.pyplot as plt\n",
    "import numpy as np \n",
    "from tqdm import tqdm\n",
    "import numpy as np \n",
    "%matplotlib inline"
   ]
  },
  {
   "cell_type": "markdown",
   "metadata": {},
   "source": [
    "## 1.\n",
    "\n",
    "Реализуйте базовый частотный метод по Шерлоку Холмсу:\n",
    "* подсчитайте частоты букв по корпусам (пунктуацию и капитализацию можно просто опустить, а вот пробелы лучше оставить);\n",
    "* возьмите какие-нибудь тестовые тексты (нужно взять по меньшей мере 2-3 предложения, иначе совсем вряд ли сработает), зашифруйте их посредством случайной перестановки символов;\n",
    "* расшифруйте их таким частотным методом.\n"
   ]
  },
  {
   "cell_type": "code",
   "execution_count": 2,
   "metadata": {},
   "outputs": [],
   "source": [
    "def read_data(path):\n",
    "    with open(path, encoding='utf-8') as f:\n",
    "        names = f.read().replace('\\n', ' ')\n",
    "        return names\n",
    "    \n",
    "AnnaKarenina = read_data('corpora/AnnaKarenina.txt')\n",
    "WarAndPeace = read_data('corpora/WarAndPeace.txt')\n",
    "WarAndPeaceEng = read_data('corpora/WarAndPeaceEng.txt')\n",
    "\n",
    "# оставим цифры, хотя они и могут испортить статистикку\n",
    "AnnaKarenina = re.sub('\\W+',' ', AnnaKarenina ).lower()\n",
    "WarAndPeace = re.sub('\\W+',' ', WarAndPeace ).lower()\n",
    "WarAndPeaceEng = re.sub('\\W+',' ', WarAndPeaceEng ).lower()"
   ]
  },
  {
   "cell_type": "code",
   "execution_count": 3,
   "metadata": {},
   "outputs": [],
   "source": [
    "#  получить отсортированный словарь частотности символов\n",
    "def get_sorted_frequency_dict(text):\n",
    "    counts = dict(Counter(text)) \n",
    "    counts = {k: v / len(text) for k, v in sorted(counts.items(), key=lambda item: item[1], reverse=True)}        \n",
    "    return counts\n",
    "\n",
    "# словарь для шифровки случайными перестановками символов\n",
    "def get_encode_dict(text):\n",
    "    freq_dict = get_sorted_frequency_dict(text)\n",
    "    shuffled_letters = list(freq_dict.keys())\n",
    "    random.shuffle(shuffled_letters)\n",
    "    return {list(freq_dict.keys())[i]:shuffled_letters[i] for i in range(len(shuffled_letters))}\n",
    "\n",
    "# словарь для дешифровки по отссортированному списку частотных символов\n",
    "def get_decode_dict(text, freq_letters_list):\n",
    "    freq_dict = get_sorted_frequency_dict(text)\n",
    "    decode_dict = {list(freq_dict.keys())[i]:freq_letters_list[i] for i in range(min(len(freq_dict),len(freq_letters_list)))}\n",
    "    return decode_dict\n",
    "\n",
    "def encode(text):\n",
    "    encode_dict = get_encode_dict(text)\n",
    "    return ''.join([encode_dict[i] for i in text])\n",
    "\n",
    "def decode(text, freq_dict):\n",
    "    decode_dict = get_decode_dict(text, freq_dict)\n",
    "    return ''.join([decode_dict[i] if i in decode_dict.keys() else '?' for i in text])\n",
    "\n",
    "# отсортированные по частотности символы только из Русского языка\n",
    "def get_only_rus_letters(frequency_dict):\n",
    "    return [' '] + [i for i in list(frequency_dict.keys()) if i in 'абвгдеёжзийклмнопрстуфхцчшщъыьэюя']\n",
    "\n",
    "#\n",
    "def accuracy(original, decoded):\n",
    "    return sum([1 for i in range(len(original)) if original[i] == decoded[i]]) / len(original)"
   ]
  },
  {
   "cell_type": "code",
   "execution_count": 4,
   "metadata": {},
   "outputs": [],
   "source": [
    "AnnaKarenina_frequency_dict =  get_sorted_frequency_dict(AnnaKarenina)\n",
    "WarAndPeace_frequency_dict = get_sorted_frequency_dict(WarAndPeace)"
   ]
  },
  {
   "cell_type": "markdown",
   "metadata": {},
   "source": [
    "#### Отсортированный словарь частотности символов Анны Корениной"
   ]
  },
  {
   "cell_type": "code",
   "execution_count": 5,
   "metadata": {},
   "outputs": [
    {
     "data": {
      "text/plain": [
       "{' ': 0.16759116836318097,\n",
       " 'о': 0.09513034595302555,\n",
       " 'е': 0.07242743491488532,\n",
       " 'а': 0.06859314466860275,\n",
       " 'н': 0.05748448067215471,\n",
       " 'и': 0.05498627598220739,\n",
       " 'т': 0.04957691600291936,\n",
       " 'с': 0.044003547274936064,\n",
       " 'л': 0.04153755858919674,\n",
       " 'в': 0.038988394038047686,\n",
       " 'р': 0.032971030197525106,\n",
       " 'к': 0.028385228434899656,\n",
       " 'д': 0.024385757948859728,\n",
       " 'м': 0.02373850913704454,\n",
       " 'у': 0.022333891353575917,\n",
       " 'п': 0.019969822390240075,\n",
       " 'я': 0.01783243694742231,\n",
       " 'ь': 0.016314770276460177,\n",
       " 'ы': 0.015354733351061899,\n",
       " 'г': 0.01504955992938252,\n",
       " 'б': 0.01447845803660441,\n",
       " 'ч': 0.013974716879897564,\n",
       " 'з': 0.01354302242351042,\n",
       " 'ж': 0.009383643407492622,\n",
       " 'й': 0.008705350082531545,\n",
       " 'ш': 0.007068777068765354,\n",
       " 'х': 0.006435000404164416,\n",
       " 'ю': 0.005161589619651997,\n",
       " 'э': 0.002939856820362389,\n",
       " 'щ': 0.0023746123828948247,\n",
       " 'ц': 0.002338881905500502,\n",
       " 'ф': 0.0010432127908080126,\n",
       " '1': 0.0004539527865672149,\n",
       " 'e': 0.00043169445638714497,\n",
       " 'i': 0.00043110871085609055,\n",
       " 'a': 0.0002905297834030175,\n",
       " '2': 0.0002905297834030175,\n",
       " '8': 0.0002477703596360412,\n",
       " 'ъ': 0.00024132715879444198,\n",
       " 'n': 0.00023429821242178833,\n",
       " 's': 0.00021906882861437207,\n",
       " '3': 0.00021203988224171845,\n",
       " 'x': 0.00019622475290324772,\n",
       " 'l': 0.00019329602524797537,\n",
       " '7': 0.0001827526056889949,\n",
       " 'r': 0.00017220918613001441,\n",
       " 't': 0.0001669374763505242,\n",
       " 'o': 0.00016400874869525184,\n",
       " 'm': 0.00015873703891576159,\n",
       " '6': 0.00014995085594994453,\n",
       " '0': 0.00014936511041889006,\n",
       " 'u': 0.00014467914617045428,\n",
       " '9': 0.00014409340063939983,\n",
       " '4': 0.00014116467298412746,\n",
       " '5': 0.00013999318192201853,\n",
       " 'd': 0.00011129165090034945,\n",
       " 'c': 0.00010426270452769581,\n",
       " 'v': 0.00010074823134136899,\n",
       " 'p': 7.02894637265365e-05,\n",
       " 'h': 5.388858885701132e-05,\n",
       " 'b': 4.334516929803084e-05,\n",
       " 'f': 4.21736782359219e-05,\n",
       " 'g': 3.338749527010484e-05,\n",
       " 'ó': 3.104451314588695e-05,\n",
       " 'é': 2.694429442850566e-05,\n",
       " 'z': 1.8743856993743067e-05,\n",
       " 'ё': 1.8158111462688595e-05,\n",
       " 'j': 1.6400874869525182e-05,\n",
       " 'q': 1.347214721425283e-05,\n",
       " 'y': 1.1714910621089417e-05,\n",
       " 'w': 9.371928496871533e-06,\n",
       " 'è': 9.371928496871533e-06,\n",
       " 'k': 8.200437434762591e-06,\n",
       " 'á': 6.443200841599179e-06,\n",
       " 'â': 2.928727655272354e-06,\n",
       " 'ç': 2.3429821242178834e-06,\n",
       " 'ý': 1.7572365931634125e-06,\n",
       " 'à': 1.7572365931634125e-06,\n",
       " 'ü': 1.1714910621089417e-06,\n",
       " 'î': 1.1714910621089417e-06,\n",
       " 'ê': 5.857455310544708e-07,\n",
       " 'ї': 5.857455310544708e-07,\n",
       " 'ä': 5.857455310544708e-07}"
      ]
     },
     "execution_count": 5,
     "metadata": {},
     "output_type": "execute_result"
    }
   ],
   "source": [
    "AnnaKarenina_frequency_dict"
   ]
  },
  {
   "cell_type": "markdown",
   "metadata": {},
   "source": [
    "#### Отсортированные по частотности символы только из Русского, поситанные на \"Войне и мире\""
   ]
  },
  {
   "cell_type": "code",
   "execution_count": 6,
   "metadata": {},
   "outputs": [
    {
     "data": {
      "text/plain": [
       "[' ',\n",
       " 'о',\n",
       " 'а',\n",
       " 'е',\n",
       " 'и',\n",
       " 'н',\n",
       " 'т',\n",
       " 'с',\n",
       " 'л',\n",
       " 'в',\n",
       " 'р',\n",
       " 'к',\n",
       " 'д',\n",
       " 'м',\n",
       " 'у',\n",
       " 'п',\n",
       " 'я',\n",
       " 'г',\n",
       " 'ь',\n",
       " 'ы',\n",
       " 'з',\n",
       " 'б',\n",
       " 'ч',\n",
       " 'й',\n",
       " 'ж',\n",
       " 'ш',\n",
       " 'х',\n",
       " 'ю',\n",
       " 'ц',\n",
       " 'э',\n",
       " 'щ',\n",
       " 'ф',\n",
       " 'ё',\n",
       " 'ъ']"
      ]
     },
     "execution_count": 6,
     "metadata": {},
     "output_type": "execute_result"
    }
   ],
   "source": [
    "get_only_rus_letters(WarAndPeace_frequency_dict)"
   ]
  },
  {
   "cell_type": "markdown",
   "metadata": {},
   "source": [
    "В Анне Карениной и Войне и мире \"а\" и \"е\" имеют разные позиции по частотности!"
   ]
  },
  {
   "cell_type": "markdown",
   "metadata": {},
   "source": [
    "#### Зашифруем Анну Коренину"
   ]
  },
  {
   "cell_type": "code",
   "execution_count": 7,
   "metadata": {},
   "outputs": [
    {
     "data": {
      "text/plain": [
       "'eрр7rerж7рuýъъýuoýз ъаъýuеsаъuаїuвýifщuїъýi ъаbfщuзеiýъеqum8qýubеmвbеèеuъýxаъý bв5uвbýqн ьuýюезаїiеiuюзýїеьuqв uвxýвbmаqf uв i8аuàещеtаusзcèuъýusзcèýuoýtsý5uъ вxýвbmаqý5uв i85uъ вxýвbmаqýuàеuвqе icunbеuoъаèýuеuq xъfщuц ъъевb5щuеumóvqаuеuq з uеuв i8 uеux mеq x вoеiusевbеаъвbq um qubеmвbеьзеiýъuназеoеèеusfщýъа5uxýвb8uà зqý5жum qubеmвbеьuýъъýuoýз ъаъýuзеiýъuназеoеèеusfщýъа5uýъъýuoýз ъаъýuàезýїаmýuвеqз i ъъаoеquqв sъ qъевb8óuвеs зtýъа5uъ еvfxýьъý5uвqеvеsýuзýвoеqýъъевb8uàеq вbqеqýъа5ucsаqаb m8ъеuвеx býmав8uqunbеiuзеiýъ uвuц m8ъевb8óuщcsеt вbq ъъеèеuqїèm5sýuýqbезýuъýutаїъ8uеъuqfвbcàýmuїs в8uoýouщcsеtъаouаuifвmаb m8uаuъýїъýx ъа uавocввbqýuqаs muъ uqubеiuxbеvfuъ евàезаiеuзýїз наb8uqеàзевuýuqubеiuxbеvfuїýвbýqаb8umóvаb8utаїъ8uquv вxавm ъъfщuъаoеèsýuъ uавbеäаifщuqв щu  uàзе5qm ъа5щulёuё11uёuquh1u uèеsfuеsаъuiýвbаbfьuàавýb m8uàеuqаsаiеicuèеъxýзеquвoýїýmusевbе qвoеicunbеuq ä8uъ вmfщýъъý5unbеuq ä8uà зqý5uobеucuъýвuаїuàавýb m ьuiеt buàезýqъ5b8в5uвunbаiuýuqu qзеà uobеuàз sвbýqаbuщеb8uxbеuъаvcs8uàеsеvъ'"
      ]
     },
     "execution_count": 7,
     "metadata": {},
     "output_type": "execute_result"
    }
   ],
   "source": [
    "encoded = encode(AnnaKarenina)\n",
    "encoded[:1000]"
   ]
  },
  {
   "cell_type": "markdown",
   "metadata": {},
   "source": [
    "#### Расшифруем Анну Коренину"
   ]
  },
  {
   "cell_type": "code",
   "execution_count": 8,
   "metadata": {},
   "outputs": [
    {
     "name": "stdout",
     "output_type": "stream",
     "text": [
      "annotation анна каренина один из самых знаменитых романов льва толстого начинается ставшей афоризмом фразой все счастливые семьи похожи друг на друга каждая несчастливая семья несчастлива по своему это книга о вечных ценностях о любви о вере о семье о человеческом достоинстве лев толстойроман широкого дыхания часть перваяi лев толстой анна каренина роман широкого дыхания анна каренина поразила современников вседневностью содержания необычайная свобода раскованность повествования удивительно сочетались в этом романе с цельностью художественного взгляда автора на жизнь он выступал здесь как художник и мыслитель и назначение искусства видел не в том чтобы неоспоримо разрешить вопрос а в том чтобы заставить любить жизнь в бесчисленных никогда не истощимых всех ее проявлениях 61 100 1 в 70 е годы один маститый писатель по видимому гончаров сказал достоевскому это вещь неслыханная это вещь первая кто у нас из писателей может поравняться с этим а в европе кто представит хоть что нибудь подобн\n",
      "\n",
      "\n",
      " Accuracy: 1.0\n"
     ]
    }
   ],
   "source": [
    "AnnaKarenina_frequency_dict =  get_sorted_frequency_dict(AnnaKarenina)\n",
    "decoded = decode(encoded, list(AnnaKarenina_frequency_dict.keys()))\n",
    "print(decoded[:1000])\n",
    "\n",
    "print(f\"\\n\\n Accuracy: {accuracy(AnnaKarenina, decoded)}\")"
   ]
  },
  {
   "cell_type": "markdown",
   "metadata": {},
   "source": [
    "Расшифруем Анну Коренину, зная только отсортированный по частотности список русских букв в \"Войне и Мире\". Анна Коренина - тестовый текст, Война и Мир - тренировочный"
   ]
  },
  {
   "cell_type": "markdown",
   "metadata": {},
   "source": [
    "#### Расшифруем зная частотности по ограниченному размеру текста"
   ]
  },
  {
   "cell_type": "code",
   "execution_count": 9,
   "metadata": {},
   "outputs": [
    {
     "data": {
      "text/plain": [
       "'сjjwкскáwjїmîîmїýmя î2îmїkё2îї2бїàmdèqїбîmd î2uèqїяkdmîkвїhzвmїukhàukйkїîmç2îm uàюїàumвx äїmpkя2бdkdїpяmбkäївà їàçmàuh2вè їà dz2ї6kqkн2їёя9йїîmїёя9йmїýmнёmюїî àçmàuh2вmюїà dzюїî àçmàuh2вmї6kїàвk d9ї7ukїýî2йmїkїв çîèqїr îîkàuюqїkїh1êв2їkїв я їkїà dz їkїç hkв ç àýkdїёkàuk2îàuв їh вїukhàukäяkdmîїx2яkýkйkїёèqmî2юїçmàuzї6 явmюáїh вїukhàukäїmîîmїýmя î2îmїяkdmîїx2яkýkйkїёèqmî2юїmîîmїýmя î2îmї6kяmб2hmїàkвя d îî2ýkвївà ёî вîkàuz1їàkё янmî2юїî kêèçmäîmюїàвkêkёmїяmàýkвmîîkàuzї6kв àuвkвmî2юї9ё2в2u hzîkїàkç umh2àzївї7ukdїяkdmî їàїr hzîkàuz1їq9ёkн àuв îîkйkївбйhюёmїmвukяmїîmїн2бîzїkîївèàu96mhїбё àzїýmýїq9ёkнî2ýї2їdèàh2u hzї2їîmбîmç î2 ї2àý9ààuвmїв2ё hїî ївїukdїçukêèїî kà6kя2dkїяmбя x2uzївk6яkàїmївїukdїçukêèїбmàumв2uzїh1ê2uzїн2бîzївїê àç2àh îîèqїî2ýkйёmїî ї2àuke2dèqївà qї  ї6яkювh î2юqїжéїéттїéївїcтї їйkёèїkё2îїdmàu2uèäї62àmu hzї6kїв2ё2dkd9їйkîçmяkвїàýmбmhїёkàuk вàýkd9ї7ukїв ezїî àhèqmîîmюї7ukїв ezї6 явmюїýukї9їîmàї2бї62àmu h äїdkн uї6kяmвîюuzàюїàї7u2dїmївї вяk6 їýukї6я ёàumв2uїqkuzїçukїî2ê9ёzї6kёkêî'"
      ]
     },
     "execution_count": 9,
     "metadata": {},
     "output_type": "execute_result"
    }
   ],
   "source": [
    "encoded = encode(AnnaKarenina)\n",
    "encoded[:1000]"
   ]
  },
  {
   "cell_type": "code",
   "execution_count": 10,
   "metadata": {},
   "outputs": [
    {
     "name": "stdout",
     "output_type": "stream",
     "text": [
      "?????????? еиие кераиние одни нч семьх чиемаинтьх ромеиов лгве толстоыо иебниеатся стевшаж ефорнчмом фречож вса сбестлнвьа самгн похойн друы ие друые кейдея иасбестлнвея самгя иасбестлнве по своаму цто киные о вабиьх щаииостях о люзвн о вара о самга о баловабаском достониства лав толстожромеи шнрокоыо дьхеиня бестг парвея? лав толстож еиие кераиние ромеи шнрокоыо дьхеиня еиие кераиние поречнле соврамаиинков всадиавиостгю содарйеиня иаозьбежиея свозоде ресковеииостг поваствовеиня уднвнталгио собателнсг в цтом ромеиа с щалгиостгю худойастваииоыо вчыляде евторе ие йнчиг ои вьступел чдасг кек худойинк н мьслнталг н иечиебаина нскусстве вндал иа в том бтозь иаоспорнмо речрашнтг вопрос е в том бтозь честевнтг люзнтг йнчиг в засбнслаииьх инкоыде иа нстоэнмьх всах аа проявлаинях ?ё ё?? ё в ?? а ыодь одни местнтьж пнсеталг по внднмому ыоиберов скечел достоавскому цто ваэг иасльхеииея цто ваэг парвея кто у иес нч пнсеталаж мойат поревиятгся с цтнм е в авропа кто прадстевнт хотг бто инзудг подози\n",
      "\n",
      "\n",
      " Accuracy: 0.6261531865142634\n"
     ]
    }
   ],
   "source": [
    "russian_freq_dict =  get_only_rus_letters(get_sorted_frequency_dict(WarAndPeace))\n",
    "decoded = decode(encoded, russian_freq_dict)\n",
    "print(decoded[:1000])\n",
    "\n",
    "\n",
    "print(f\"\\n\\n Accuracy: {accuracy(AnnaKarenina, decoded)}\")"
   ]
  },
  {
   "cell_type": "markdown",
   "metadata": {},
   "source": [
    "#### Зависимость точности расшифровки от размера (в символах) обучающего текста "
   ]
  },
  {
   "cell_type": "code",
   "execution_count": 11,
   "metadata": {},
   "outputs": [
    {
     "name": "stderr",
     "output_type": "stream",
     "text": [
      "100%|██████████████████████████████████████████████████████████████████████████████████| 68/68 [00:53<00:00,  1.26it/s]\n"
     ]
    },
    {
     "data": {
      "text/plain": [
       "[<matplotlib.lines.Line2D at 0x15cb3685f08>]"
      ]
     },
     "execution_count": 11,
     "metadata": {},
     "output_type": "execute_result"
    },
    {
     "data": {
      "image/png": "[encoded data removed]",
      "text/plain": [
       "<Figure size 432x288 with 1 Axes>"
      ]
     },
     "metadata": {
      "needs_background": "light"
     },
     "output_type": "display_data"
    }
   ],
   "source": [
    "from tqdm import tqdm\n",
    "accs = []\n",
    "train_sizes = []\n",
    "for i in tqdm(range(100, len(WarAndPeace), 10000)):\n",
    "    \n",
    "    russian_freq_dict =  get_only_rus_letters(get_sorted_frequency_dict(WarAndPeace[:i]))\n",
    "    decoded = decode(encoded, russian_freq_dict)\n",
    "    accs.append(accuracy(AnnaKarenina, decoded))\n",
    "    train_sizes.append(i)\n",
    "                \n",
    "plt.plot(train_sizes, accs)\n",
    "    "
   ]
  },
  {
   "cell_type": "markdown",
   "metadata": {},
   "source": [
    "Частотности русских букв меняются!\n",
    "\n",
    "Посмотрим как расшифровка выглядит на максимальной точности."
   ]
  },
  {
   "cell_type": "code",
   "execution_count": 12,
   "metadata": {},
   "outputs": [
    {
     "name": "stdout",
     "output_type": "stream",
     "text": [
      "?????????? анна каренина омин ич сапгх чнапенитгх ропанов льва толстоыо набинается ставшеж афоричпоп фрачож все сбастливге сепьи дохойи мруы на мруыа каймая несбастливая сепья несбастлива до своепу цто книыа о вебнгх эенностях о люзви о вере о сепье о беловебескоп мостоинстве лев толстожропан широкоыо мгхания басть дервая? лев толстож анна каренина ропан широкоыо мгхания анна каренина дорачила соврепенников всемневностью сомерйания неозгбажная свозома раскованность довествования умивительно собетались в цтоп ропане с эельностью хумойественноыо вчыляма автора на йичнь он вгстудал чмесь как хумойник и пгслитель и начнабение искусства вимел не в топ бтозг неосдорипо рачрешить водрос а в топ бтозг частавить люзить йичнь в зесбисленнгх никоыма не истощипгх всех ее дроявлениях ?ё ё?? ё в ?? е ыомг омин паститгж дисатель до вимипопу ыонбаров скачал мостоевскопу цто вещь неслгханная цто вещь дервая кто у нас ич дисатележ пойет доравняться с цтип а в евроде кто дремставит хоть бто низумь домозн\n",
      "\n",
      "\n",
      " Accuracy: 0.8302398159353244\n"
     ]
    }
   ],
   "source": [
    "russian_freq_dict =  get_only_rus_letters(get_sorted_frequency_dict(WarAndPeace[:train_sizes[np.argmax(accs)]]))\n",
    "decoded = decode(encoded, russian_freq_dict)\n",
    "print(decoded[:1000])\n",
    "\n",
    "\n",
    "print(f\"\\n\\n Accuracy: {accuracy(AnnaKarenina, decoded)}\")"
   ]
  },
  {
   "cell_type": "markdown",
   "metadata": {},
   "source": [
    "a и е на своих местах."
   ]
  },
  {
   "cell_type": "markdown",
   "metadata": {},
   "source": [
    "## 2.\n",
    "Вряд ли в результате получилась такая уж хорошая расшифровка, разве что если вы брали в качестве тестовых данных целые рассказы. Но и Шерлок Холмс был не так уж прост: после буквы E, которая действительно выделяется частотой, дальше он анализировал уже конкретные слова и пытался угадать, какими они могли бы быть. Я не знаю, как запрограммировать такой интуитивный анализ, так что давайте просто сделаем следующий логический шаг:\n",
    "подсчитайте частоты биграмм (т.е. пар последовательных букв) по корпусам;\n",
    "проведите тестирование аналогично п.1, но при помощи биграмм.\n"
   ]
  },
  {
   "cell_type": "code",
   "execution_count": 13,
   "metadata": {},
   "outputs": [],
   "source": [
    "#  получить отсортированный словарь частотности символов\n",
    "def get_sorted_frequency_bigrams_dict(text):\n",
    "    counts = Counter()\n",
    "    for i in range(0, len(text) - 1):\n",
    "        counts[text[i:i + 2]] += 1\n",
    "    count_sum = sum(counts.values())\n",
    "    counts = dict(counts) \n",
    "    counts = {k: v / count_sum for k, v in sorted(counts.items(), key=lambda item: item[1], reverse=True )}        \n",
    "    return counts\n",
    "\n",
    "# словарь для шифровки случайными перестановками символов\n",
    "def get_encode_bigrams_dict(text):\n",
    "    freq_dict = get_sorted_frequency_bigrams_dict(text)\n",
    "    shuffled_letters = list(freq_dict.keys())\n",
    "    random.shuffle(shuffled_letters)\n",
    "    return {list(freq_dict.keys())[i]:shuffled_letters[i] for i in range(len(shuffled_letters))}\n",
    "\n",
    "# словарь для дешифровки по отссортированному списку частотных символов\n",
    "def get_decode_bigrams_dict(text, freq_letters_list):\n",
    "    freq_dict = get_sorted_frequency_bigrams_dict(text)\n",
    "    decode_dict = {list(freq_dict.keys())[i]:freq_letters_list[i] for i in range(min(len(freq_dict),len(freq_letters_list)))}\n",
    "    return decode_dict\n",
    "\n",
    "def encode_bigrams(text):\n",
    "    encode_dict = get_encode_bigrams_dict(text)\n",
    "    return ''.join([encode_dict[text[i:i+2]] for i in range(0, len(text) - 1)])\n",
    "\n",
    "def decode_bigrams(text, freq_dict):\n",
    "    decode_dict = get_decode_bigrams_dict(text, freq_dict)\n",
    "    return ''.join([decode_dict[text[i:i+2]] if text[i:i+2] in decode_dict.keys() else '??' for i in range(0, len(text) - 1)])\n",
    "\n",
    "# # отсортированные по частотности символы только из Русского языка\n",
    "# def get_only_rus_letters(frequency_dict):\n",
    "#     return [i for i in list(frequency_dict.keys()) if i in 'абвгдеёжзийклмнопрстуфхцчшщъыьэюя']\n",
    "\n",
    "# #\n",
    "def accuracy(original, decoded):\n",
    "    return sum([1 for i in range(len(original)) if original[i]==decoded[i]]) / len(original)"
   ]
  },
  {
   "cell_type": "markdown",
   "metadata": {},
   "source": [
    "#### Зашифруем Анну Коренину"
   ]
  },
  {
   "cell_type": "code",
   "execution_count": 14,
   "metadata": {},
   "outputs": [
    {
     "data": {
      "text/plain": [
       "'убвпgo37su10яз6  cзыфюурянфях óлпкц ifхвчьбшфях втао абшà pt53ущn  xъюwiêtшрамgeфяъюп хвчьak nêtшрьчллпаё ур40ça5 меэтséшкх afghkfгизшghahцбáллжфябтягбшфяueзчжцюмrhn зшгфbrk 63 ёиффюuo é фсё53кшяiпарlачвхжчejшлeaифskсшми11n ib ж99зштпpyйб69бь11n мимфguркетчуneriз жьныетomясétjotéлжфях omясétjoмшх óлпк уulщнтhrhлждмзсib ж99зштпpyйбшктhrhn мимфguлшrhлждмзсib ж99зштпpyйбшкх чуneáлn llciспмф68ккблбжgháлóлекчьfuмшх втáлskz кнлт15êtшрлщ94хвян40йфзшуфшошрвтáлмелцrlялсжетвтáлskz èrif11втáлn мимфguбв11втáлweсвсфгоçaz кнсвзс4 ждпарlomвуйфзшgh54бшчшзшmez 11меяммя5 afghkfгизшgheaapллпаё урà вщядcuллhtждahцбáлomаlêtшьурчьнрrhwe ж99зшоу97чуяшèrhéшктhggosмеяммя5 afghkfгизшgheaиффюурянфях óлпкц ifхвчьбшфях ьчллпаё урà вщядcuллhtждahцбáлomаlêtшьурчьнрrhфюурянфях óлпкц ifхвчьбшфях чуne фжчejзехтпюх n эпçafeifмфп хвянчьыгждça5 skсшмидкиддммяшн40йфзшоувьрфn эпао ýèrsm82урчьнрrhлждмтóижvaац жropaфятhrhn llciижукаощнх ьчжч994 ждçaшкурян40йфзшоу97чуneçaz зсзшmeciçaшкурчьнрrh âрж айбсжakpóсфэт ç40áлn эпitсвзч'"
      ]
     },
     "execution_count": 14,
     "metadata": {},
     "output_type": "execute_result"
    }
   ],
   "source": [
    "encoded = encode_bigrams(AnnaKarenina)\n",
    "encoded[:1000]"
   ]
  },
  {
   "cell_type": "markdown",
   "metadata": {},
   "source": [
    "#### Расшифруем Анну Коренину обучив частотности на Войне и Мире"
   ]
  },
  {
   "cell_type": "code",
   "execution_count": 15,
   "metadata": {},
   "outputs": [
    {
     "name": "stdout",
     "output_type": "stream",
     "text": [
      "тзрздг????????ык????дц??????17ми????????эттчлеteарбъ ксте рьравы бanсиalтебмонят т??н ré ксте сля охe нусе юн ецаныеь дкайacnn?? пмиблrmуг??to??mi xоеkrчтлжечch клшугtrиеаюонят тmyимpaль??mi xоеаhчевъновыазkyгрыслеuiпобкенмюомспая?? льк????лияде  mл  э озмелихлдщрнааф оquетр ового нои ас кcrищзж aлщн ré кrçрсduав яиб 2меия иun птьнаектаecдрkopazot ржжаебво фэт??пчнпба??в нцти??ай??êcudтваvазийу aerlтгч aлкоntег??imçoад звоау намсоouмосыа  p пalén 5есьцивeiнаl r  щт лфрыvaвшktипшта  p пспмоuéой??????o ?? сцетоотка??ртvsпаесд ян sсё снкроmtыйацыв 1фаяш é??и ас ксте суроmtыйацыв 1фа??рхкёе рьравы башыс??da?? еуэусьс ицаи  валуювсazén 5есьцивeiнаl r  щт лфрын лиu усьс иun пспмоuéой????hrgiьф ицаи  валуювсazén 5есьцивeiнаl r  щт лфрын лияде кутоотка rо  ш пагтсофосеюикkiойдъязепло??муактуех олао siраweйтev т??jaоархкёе сля гко лу нвдитврpe??cu??крbumi xоеъекчlrзю??оншеарахподм гзннаèmag??ьечэоещая гко сшаявмрюèsрщ??пэs ем?? сбея гко лу нвдитi одрттеdzа убя гко  ш пспмоuéой??????рзuxа убя гк\n",
      "\n",
      "\n",
      " Accuracy: 0.04718765998174817\n"
     ]
    }
   ],
   "source": [
    "decoded = decode_bigrams(encoded, list(get_sorted_frequency_bigrams_dict(WarAndPeace).keys()))\n",
    "print(decoded[:1000])\n",
    "\n",
    "print(f\"\\n\\n Accuracy: {accuracy(AnnaKarenina, decoded)}\")"
   ]
  },
  {
   "cell_type": "markdown",
   "metadata": {},
   "source": [
    "Метрика сильно хуже, словарь вырос квадратично"
   ]
  },
  {
   "cell_type": "markdown",
   "metadata": {},
   "source": [
    "## 3.\n",
    "Но и это ещё не всё: биграммы скорее всего тоже далеко не всегда работают. Основная часть задания — в том, как можно их улучшить:\n",
    "предложите метод обучения перестановки символов в этом задании, основанный на MCMC-сэмплировании, но по-прежнему работающий на основе статистики биграмм;\n",
    "реализуйте и протестируйте его, убедитесь, что результаты улучшились.\n"
   ]
  },
  {
   "cell_type": "markdown",
   "metadata": {},
   "source": [
    "Текст можно рассмвтривать как цепь Маркова, тк следующий символ (символы=состояния) зависит от предудущего. \n",
    "Для расшифровки Анны Карениной обучим матрицу переходов между символами на \"Войне и Мире\".\n",
    "\n",
    "Воспользуемся идеей MCMC-семплирования. Во множестве попыток меняем местами пару символов в текущей перестановке, считаем правдоподобие восстановления текста из текущей пререстановки, принимаем новую перестнаовку с определённой вероятностью. Выберем лучшую попытку."
   ]
  },
  {
   "cell_type": "code",
   "execution_count": 16,
   "metadata": {},
   "outputs": [],
   "source": [
    "rus_cahracters = ' абвгдеёжзийклмнопрстуфхцчшщъыьэюя'\n",
    "WarAndPeace_rus_only = ''.join([i for i in WarAndPeace if i in rus_cahracters])\n",
    "AnnaKarenina_rus_only = ''.join([i for i in AnnaKarenina if i in rus_cahracters])\n",
    "emdedings = {c: i for i, c in enumerate(rus_cahracters)}"
   ]
  },
  {
   "cell_type": "code",
   "execution_count": 17,
   "metadata": {},
   "outputs": [],
   "source": [
    "# build transition matrix base on train text\n",
    "def get_transitions_matrix(text, matrix_of_transitions):\n",
    "    for i in range(len(text)-1):\n",
    "        matrix_of_transitions[emdedings[text[i]], emdedings[text[i+1]]] += 1\n",
    "    matrix_of_transitions = np.clip(matrix_of_transitions, 1, None)\n",
    "    matrix_of_transitions = (np.log(matrix_of_transitions).T - np.log(matrix_of_transitions.sum(axis=1))).T\n",
    "    return matrix_of_transitions\n",
    "\n",
    "\n",
    "def calculate_log_likelihood(text, permutation):\n",
    "    text = text.translate(str.maketrans(rus_cahracters, ''.join(permutation)))\n",
    "    return sum([matrix_of_transitions[emdedings[text[i]], emdedings[text[i+1]]] for i in range(len(text) - 1)])\n",
    "\n",
    "def decode_mcmc(text, iterations):\n",
    "    permutation = np.array(list(rus_cahracters))\n",
    "    random.shuffle(permutation)\n",
    "    log_likelihood = calculate_log_likelihood(text, permutation)\n",
    "    log_likelihood_best = log_likelihood\n",
    "    permutation_best = permutation.copy()\n",
    "    \n",
    "    for i in tqdm(range(iterations)):\n",
    "        swap = random.sample(range(len(rus_cahracters)), 2)\n",
    "        permutation[swap[0]], permutation[swap[1]] = permutation[swap[1]], permutation[swap[0]]\n",
    "        log_likelihood_new = calculate_log_likelihood(text, permutation)\n",
    "        if log_likelihood_new >= log_likelihood:\n",
    "            log_likelihood = log_likelihood_new\n",
    "            if log_likelihood_new > log_likelihood_best:\n",
    "                log_likelihood_best = log_likelihood_new\n",
    "                permutation_best = permutation.copy()\n",
    "        else:\n",
    "            if random.random() < np.exp(log_likelihood_new - log_likelihood):\n",
    "                log_likelihood = log_likelihood_new\n",
    "            else:\n",
    "                permutation[swap[0]], permutation[swap[1]] = permutation[swap[1]], permutation[swap[0]]\n",
    "    return text.translate(str.maketrans(rus_cahracters, ''.join(permutation_best)))"
   ]
  },
  {
   "cell_type": "code",
   "execution_count": 18,
   "metadata": {},
   "outputs": [
    {
     "data": {
      "text/plain": [
       "'чднндчедёанзндчрйзнчзвчшдуьъчвндуанз ьъчёруднрфчягфдч ряш рлрчндпзнда шщчш дфтацчдюрёзвуручюёдврцчфшачшпдш язфьачшаугзчбръркзчйёмлчндчйёмлдчедкйдщчнашпдш язфдщчшаугщчнашпдш язфдчбрчшфраумчо рчензлдчрчфапньъчианнрш щъчрчясжфзчрчфаёачрчшаугачрчпаярфапашеручйрш рзнш фачяафч ряш рцёруднчтзёрерлрчйьъднзщчпдш гчбаёфдщчяафч ряш рцчднндчедёанзндчёруднчтзёрерлрчйьъднзщчднндчедёанзндчбрёдвзядчшрфёауаннзерфчфшайнафнрш гсчшрйаёкднзщчнаржьпдцндщчшфржрйдчёдшерфдннрш гчбрфаш фрфднзщчмйзфз аягнрчшрпа дязшгчфчо ручёрудначшчиаягнрш гсчъмйркаш фаннрлрчфвлящйдчдф рёдчндчкзвнгчрнчфьш мбдячвйашгчедечъмйркнзечзчуьшяз аягчзчндвндпанзачзшемшш фдчфзйаячначфч ручп ржьчнаршбрёзурчёдвёатз гчфрбёршчдчфч ручп ржьчвдш дфз гчясжз гчкзвнгчфчжашпзшяанньъчнзерлйдчначзш рэзуьъчфшаъчаачбёрщфяанзщъччччфччачлрйьчрйзнчудш з ьцчбзшд аягчбрчфзйзурумчлрнпдёрфчшедвдячйрш рафшерумчо рчфаэгчнашяьъднндщчо рчфаэгчбаёфдщче рчмчндшчзвчбзшд аяацчурка чбрёдфнщ гшщчшчо зучдчфчафёрбаче рчбёайш дфз чър гчп рчнзжмйгчбрйржнраччючучйрш рафшезц'"
      ]
     },
     "execution_count": 18,
     "metadata": {},
     "output_type": "execute_result"
    }
   ],
   "source": [
    "encoded = encode(AnnaKarenina_rus_only)[:1000]\n",
    "encoded"
   ]
  },
  {
   "cell_type": "code",
   "execution_count": 19,
   "metadata": {},
   "outputs": [
    {
     "name": "stderr",
     "output_type": "stream",
     "text": [
      "100%|██████████████████████████████████████████████████████████████████████████| 50000/50000 [00:33<00:00, 1489.92it/s]\n"
     ]
    },
    {
     "data": {
      "text/plain": [
       "' анна каренина один из самых знаменитых романов льва толстого начинается ставшей афоризмом фразой все счастливые семьи похожи друг на друга каждая несчастливая семья несчастлива по своему это книга о вечных ценностях о любви о вере о семье о человеческом достоинстве лев толстойроман широкого дыхания часть первая лев толстой анна каренина роман широкого дыхания анна каренина поразила современников вседневностью содержания необычайная свобода раскованность повествования удивительно сочетались в этом романе с цельностью художественного взгляда автора на жизнь он выступал здесь как художник и мыслитель и назначение искусства видел не в том чтобы неоспоримо разрешить вопрос а в том чтобы заставить любить жизнь в бесчисленных никогда не истощимых всех ее проявлениях    в  е годы один маститый писатель по видимому гончаров сказал достоевскому это вещь неслыханная это вещь первая кто у нас из писателей может поравняться с этим а в европе кто представит хоть что нибудь подобное  ф м достоевский'"
      ]
     },
     "execution_count": 19,
     "metadata": {},
     "output_type": "execute_result"
    }
   ],
   "source": [
    "matrix_of_transitions = get_transitions_matrix(WarAndPeace_rus_only, np.zeros((len(emdedings), len(emdedings))))\n",
    "decoded = decode_mcmc(encoded, 50000)\n",
    "decoded"
   ]
  },
  {
   "cell_type": "code",
   "execution_count": 20,
   "metadata": {},
   "outputs": [
    {
     "name": "stdout",
     "output_type": "stream",
     "text": [
      "\n",
      "\n",
      " Accuracy: 1.0\n"
     ]
    }
   ],
   "source": [
    "print(f\"\\n\\n Accuracy: {accuracy(AnnaKarenina_rus_only[:1000], decoded)}\")"
   ]
  },
  {
   "cell_type": "markdown",
   "metadata": {},
   "source": [
    "## 4.\n",
    "Расшифруйте сообщение:\n",
    "←⇠⇒↟↹↷⇊↹↷↟↤↟↨←↹↝⇛⇯↳⇴⇒⇈↝⇊↾↹↟⇒↟↹⇷⇛⇞↨↟↹↝⇛⇯↳⇴⇒⇈↝⇊↾↹↨←⇌⇠↨↹⇙↹⇸↨⇛↙⇛↹⇠⇛⇛↲⇆←↝↟↞↹⇌⇛↨⇛⇯⇊↾↹⇒←↙⇌⇛↹⇷⇯⇛⇞↟↨⇴↨⇈↹⇠⇌⇛⇯←←↹↷⇠←↙⇛↹↷⇊↹↷⇠←↹⇠↤←⇒⇴⇒↟↹⇷⇯⇴↷↟⇒⇈↝⇛↹↟↹⇷⇛⇒⇙⇞↟↨←↹↳⇴⇌⇠↟↳⇴⇒⇈↝⇊↾↹↲⇴⇒⇒↹⇰⇴↹⇷⇛⇠⇒←↤↝←←↹⇞←↨↷←⇯↨⇛←↹⇰⇴↤⇴↝↟←↹⇌⇙⇯⇠⇴↹↘⇛↨↞↹⇌⇛↝←⇞↝⇛↹↞↹↝↟⇞←↙⇛↹↝←↹⇛↲←⇆⇴⇏\n",
    "\n",
    "Или это (они одинаковые, но сообщали о проблемах с юникодом):\n",
    "დჳჵჂႨშႼႨშჂხჂჲდႨსႹႭჾႣჵისႼჰႨჂჵჂႨႲႹႧჲჂႨსႹႭჾႣჵისႼჰႨჲდႩჳჲႨჇႨႠჲႹქႹႨჳႹႹჱჶდსჂႽႨႩႹჲႹႭႼჰႨჵდქႩႹႨႲႭႹႧჂჲႣჲიႨჳႩႹႭდდႨშჳდქႹႨშႼႨშჳდႨჳხდჵႣჵჂႨႲႭႣშჂჵისႹႨჂႨႲႹჵჇႧჂჲდႨჾႣႩჳჂჾႣჵისႼჰႨჱႣჵჵႨეႣႨႲႹჳჵდხსდდႨႧდჲშდႭჲႹდႨეႣხႣსჂდႨႩჇႭჳႣႨႾႹჲႽႨႩႹსდႧსႹႨႽႨსჂႧდქႹႨსდႨႹჱდჶႣნ\n",
    "\n"
   ]
  },
  {
   "cell_type": "code",
   "execution_count": 37,
   "metadata": {},
   "outputs": [
    {
     "name": "stdout",
     "output_type": "stream",
     "text": [
      "28\n"
     ]
    }
   ],
   "source": [
    "message = '←⇠⇒↟↹↷⇊↹↷↟↤↟↨←↹↝⇛⇯↳⇴⇒⇈↝⇊↾↹↟⇒↟↹⇷⇛⇞↨↟↹↝⇛⇯↳⇴⇒⇈↝⇊↾↹↨←⇌⇠↨↹⇙↹⇸↨⇛↙⇛↹⇠⇛⇛↲⇆←↝↟↞↹⇌⇛↨⇛⇯⇊↾↹⇒←↙⇌⇛↹⇷⇯⇛⇞↟↨⇴↨⇈↹⇠⇌⇛⇯←←↹↷⇠←↙⇛↹↷⇊↹↷⇠←↹⇠↤←⇒⇴⇒↟↹⇷⇯⇴↷↟⇒⇈↝⇛↹↟↹⇷⇛⇒⇙⇞↟↨←↹↳⇴⇌⇠↟↳⇴⇒⇈↝⇊↾↹↲⇴⇒⇒↹⇰⇴↹⇷⇛⇠⇒←↤↝←←↹⇞←↨↷←⇯↨⇛←↹⇰⇴↤⇴↝↟←↹⇌⇙⇯⇠⇴↹↘⇛↨↞↹⇌⇛↝←⇞↝⇛↹↞↹↝↟⇞←↙⇛↹↝←↹⇛↲←⇆⇴⇏'\n",
    "encoded_cahracters = ''.join(set(message))\n",
    "print(len(set(encoded_cahracters)))"
   ]
  },
  {
   "cell_type": "markdown",
   "metadata": {},
   "source": [
    "Предположим, что в сообщении зашифрован русский текст"
   ]
  },
  {
   "cell_type": "code",
   "execution_count": 38,
   "metadata": {},
   "outputs": [
    {
     "data": {
      "text/plain": [
       "' оаеинтслвркдмупягьызбчйжшхю'"
      ]
     },
     "execution_count": 38,
     "metadata": {},
     "output_type": "execute_result"
    }
   ],
   "source": [
    "rus_top_frequent_chars = ''.join(get_only_rus_letters(WarAndPeace_frequency_dict)[:len(set(message))])\n",
    "rus_top_frequent_chars"
   ]
  },
  {
   "cell_type": "code",
   "execution_count": 39,
   "metadata": {},
   "outputs": [],
   "source": [
    "matrix_of_transitions = get_transitions_matrix(WarAndPeace_rus_only, np.zeros((len(emdedings), len(emdedings))))"
   ]
  },
  {
   "cell_type": "code",
   "execution_count": 40,
   "metadata": {},
   "outputs": [
    {
     "data": {
      "text/plain": [
       "' хвнкшюкшнпнд кысртзвоыюакнвнкьслднкысртзвоыюакд бхдкякчдсйскхссмж ынукбсдсрюакв йбскьрслндздокхбср  кшх йскшюкшх кхп взвнкьрзшнвоыскнкьсвялнд ктзбхнтзвоыюакмзввкгзкьсхв пы  кл дш рдс кгзпзын кбярхзкисдукбсы лыскукынл йскы ксм жзе'"
      ]
     },
     "execution_count": 40,
     "metadata": {},
     "output_type": "execute_result"
    }
   ],
   "source": [
    "switch_to_russian = str.maketrans(encoded_cahracters, rus_top_frequent_chars)\n",
    "message = message.translate(switch_to_russian)\n",
    "message"
   ]
  },
  {
   "cell_type": "code",
   "execution_count": 41,
   "metadata": {},
   "outputs": [
    {
     "name": "stderr",
     "output_type": "stream",
     "text": [
      "100%|████████████████████████████████████████████████████████████████████████| 800000/800000 [02:23<00:00, 5561.90it/s]\n"
     ]
    },
    {
     "data": {
      "text/plain": [
       "'если вы вимите норкальный или почти норкальный тедст у этого сообщения доторый легдо прочитать сдорее всего вы все смелали правильно и получите кадсикальный балл за послемнее четвертое замание дурса хотя донечно я ничего не обещаж'"
      ]
     },
     "execution_count": 41,
     "metadata": {},
     "output_type": "execute_result"
    }
   ],
   "source": [
    "decoded = decode_mcmc(message, 800000)\n",
    "decoded"
   ]
  },
  {
   "cell_type": "markdown",
   "metadata": {},
   "source": [
    "за кадсикальный балл спасибо!"
   ]
  },
  {
   "cell_type": "markdown",
   "metadata": {},
   "source": [
    "## 6.\n",
    "\n",
    "Бонус: какие вы можете придумать применения для этой модели? Пляшущие человечки ведь не так часто встречаются в жизни (хотя встречаются! и это самое потрясающее во всей этой истории, но об этом я расскажу потом)."
   ]
  },
  {
   "cell_type": "markdown",
   "metadata": {},
   "source": [
    "В работе с сигналами (различной природы) данные модели могут пригодиться для восстановления потерянной информации.\n",
    "\n",
    "Уже сейчас можно дерзнуть и расшифровать азбуку Морзе например"
   ]
  },
  {
   "cell_type": "code",
   "execution_count": null,
   "metadata": {},
   "outputs": [],
   "source": []
  }
 ],
 "metadata": {
  "kernelspec": {
   "display_name": "Python 3",
   "language": "python",
   "name": "python3"
  },
  "language_info": {
   "codemirror_mode": {
    "name": "ipython",
    "version": 3
   },
   "file_extension": ".py",
   "mimetype": "text/x-python",
   "name": "python",
   "nbconvert_exporter": "python",
   "pygments_lexer": "ipython3",
   "version": "3.7.6"
  }
 },
 "nbformat": 4,
 "nbformat_minor": 4
}
